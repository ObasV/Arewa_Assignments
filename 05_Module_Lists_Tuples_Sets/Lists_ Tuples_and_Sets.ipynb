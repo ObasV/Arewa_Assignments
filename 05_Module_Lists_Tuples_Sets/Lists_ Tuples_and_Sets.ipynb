{
 "cells": [
  {
   "cell_type": "markdown",
   "metadata": {
    "vscode": {
     "languageId": "plaintext"
    }
   },
   "source": [
    "# Module 5 - Lists, Tuples and Sets"
   ]
  },
  {
   "cell_type": "markdown",
   "metadata": {},
   "source": [
    "### List Exercises: Level 1"
   ]
  },
  {
   "cell_type": "code",
   "execution_count": null,
   "metadata": {},
   "outputs": [],
   "source": [
    "# Declare an empty list\n",
    "\n",
    "empty = []"
   ]
  },
  {
   "cell_type": "code",
   "execution_count": 53,
   "metadata": {},
   "outputs": [
    {
     "name": "stdout",
     "output_type": "stream",
     "text": [
      "['One', 'two', 'three', 'four', 'five', 'six', 'seven']\n"
     ]
    }
   ],
   "source": [
    "# Declare a list with more than 5 items\n",
    "\n",
    "items =  ['One', 'two', 'three', 'four', 'five', 'six', 'seven']\n",
    "print(items)"
   ]
  },
  {
   "cell_type": "code",
   "execution_count": 54,
   "metadata": {},
   "outputs": [
    {
     "name": "stdout",
     "output_type": "stream",
     "text": [
      "Q3\t Lenght of ['One', 'two', 'three', 'four', 'five', 'six', 'seven'] is: 7\n"
     ]
    }
   ],
   "source": [
    "# Find the length of your list\n",
    "\n",
    "print('Q3\\t', f'Lenght of {items} is:', len(items))"
   ]
  },
  {
   "cell_type": "code",
   "execution_count": 65,
   "metadata": {},
   "outputs": [
    {
     "name": "stdout",
     "output_type": "stream",
     "text": [
      "Q4\t The 1st, middle, and last items in the list ['One', 'two', 'three', 'four', 'five', 'six', 'seven'] are: \n",
      " first: One \n",
      " middle: four \n",
      " last: seven \n"
     ]
    }
   ],
   "source": [
    "# Get the first item, the middle item and the last item of the list\n",
    "\n",
    "print('Q4\\t', f'The 1st, middle, and last items in the list {items} are: \\n', f'first: {items[0]} \\n', f'middle: {items[int((len(items))/2)]} \\n', f'last: {items[-1]} ')"
   ]
  },
  {
   "cell_type": "code",
   "execution_count": null,
   "metadata": {},
   "outputs": [],
   "source": [
    "# Declare a list called mixed_data_types, put your(name, age, height, marital status, address)\n",
    "\n",
    "mixed_data_types = ['Abu', 33, 183.5, 'Married', 'Kebbi']"
   ]
  },
  {
   "cell_type": "code",
   "execution_count": 86,
   "metadata": {},
   "outputs": [],
   "source": [
    "# Declare a list variable named it_companies and assign initial values Facebook, Google, Microsoft, Apple, IBM, Oracle and Amazon.\n",
    "\n",
    "it_companies = ['Facebook', 'Google', 'Microsoft', 'Apple', 'IBM', 'Oracle', 'Amazon']"
   ]
  },
  {
   "cell_type": "code",
   "execution_count": 68,
   "metadata": {},
   "outputs": [
    {
     "name": "stdout",
     "output_type": "stream",
     "text": [
      "Q7.\t ['Facebook', 'Google', 'Microsoft', 'Apple', 'IBM', 'Oracle', 'Amazon']\n"
     ]
    }
   ],
   "source": [
    "# Print the list using print()\n",
    "\n",
    "print('Q7.\\t', it_companies)"
   ]
  },
  {
   "cell_type": "code",
   "execution_count": 71,
   "metadata": {},
   "outputs": [
    {
     "name": "stdout",
     "output_type": "stream",
     "text": [
      "Q8\t Number of companies in the list are:  7\n"
     ]
    }
   ],
   "source": [
    "# Print the number of companies in the list\n",
    "\n",
    "print('Q8\\t', 'Number of companies in the list are: ', len(it_companies))"
   ]
  },
  {
   "cell_type": "code",
   "execution_count": 72,
   "metadata": {},
   "outputs": [
    {
     "name": "stdout",
     "output_type": "stream",
     "text": [
      "Q9\t The 1st, middle, and last items in the list ['Facebook', 'Google', 'Microsoft', 'Apple', 'IBM', 'Oracle', 'Amazon'] are: \n",
      " first: Facebook \n",
      " middle: Apple \n",
      " last: Amazon \n"
     ]
    }
   ],
   "source": [
    "# Print the first, middle and last company\n",
    "\n",
    "print('Q9\\t', f'The 1st, middle, and last items in the list {it_companies} are: \\n', f'first: {it_companies[0]} \\n', f'middle: {it_companies[int((len(items))/2)]} \\n', f'last: {it_companies[-1]} ')"
   ]
  },
  {
   "cell_type": "code",
   "execution_count": 87,
   "metadata": {},
   "outputs": [
    {
     "name": "stdout",
     "output_type": "stream",
     "text": [
      "Q10\t ['Facebook', 'Google', 'Microsoft', 'Java', 'IBM', 'Oracle', 'Amazon']\n"
     ]
    }
   ],
   "source": [
    "# Print the list after modifying one of the companies\n",
    "\n",
    "it_companies_modified = it_companies.copy()\n",
    "it_companies_modified[3] = 'Java'\n",
    "print('Q10\\t', it_companies_modified)"
   ]
  },
  {
   "cell_type": "code",
   "execution_count": 88,
   "metadata": {},
   "outputs": [
    {
     "name": "stdout",
     "output_type": "stream",
     "text": [
      "Q11\t ['Facebook', 'Google', 'Microsoft', 'Apple', 'IBM', 'Oracle', 'Amazon', 'Nvidia']\n"
     ]
    }
   ],
   "source": [
    "# Add an IT company to it_companies\n",
    "\n",
    "it_companies_modified = it_companies.copy()\n",
    "it_companies_modified.append('Nvidia')\n",
    "print('Q11\\t', it_companies_modified)"
   ]
  },
  {
   "cell_type": "code",
   "execution_count": 89,
   "metadata": {},
   "outputs": [
    {
     "name": "stdout",
     "output_type": "stream",
     "text": [
      "Q12\t ['Facebook', 'Google', 'Microsoft', 'Apple', 'IBM', 'Oracle', 'Open AI', 'Amazon']\n"
     ]
    }
   ],
   "source": [
    "# Insert an IT company in the middle of the companies list\n",
    "\n",
    "it_companies_modified = it_companies.copy()\n",
    "it_companies_modified.insert(6, 'Open AI')\n",
    "print('Q12\\t', it_companies_modified)"
   ]
  },
  {
   "cell_type": "code",
   "execution_count": 90,
   "metadata": {},
   "outputs": [
    {
     "name": "stdout",
     "output_type": "stream",
     "text": [
      "Q13\t ['Facebook', 'Google', 'MICROSOFT', 'Apple', 'IBM', 'Oracle', 'Amazon']\n"
     ]
    }
   ],
   "source": [
    "# Change one of the it_companies names to uppercase (IBM excluded!)\n",
    "\n",
    "it_companies_modified = it_companies.copy()\n",
    "it_companies_modified[2] = it_companies_modified[2].upper()\n",
    "print('Q13\\t', it_companies_modified)"
   ]
  },
  {
   "cell_type": "code",
   "execution_count": 91,
   "metadata": {},
   "outputs": [
    {
     "name": "stdout",
     "output_type": "stream",
     "text": [
      "Q14\t Facebook#Google#Microsoft#Apple#IBM#Oracle#Amazon#\n"
     ]
    }
   ],
   "source": [
    "# Join the it_companies with a string '#\n",
    "\n",
    "joined = ''\n",
    "for company in it_companies:\n",
    "    joined += company + \"#\"\n",
    "\n",
    "print('Q14\\t', joined)"
   ]
  },
  {
   "cell_type": "code",
   "execution_count": 93,
   "metadata": {},
   "outputs": [
    {
     "name": "stdout",
     "output_type": "stream",
     "text": [
      "Q15.\t Is \"Svelt\" present in ['Facebook', 'Google', 'Microsoft', 'Apple', 'IBM', 'Oracle', 'Amazon']?: False\n"
     ]
    }
   ],
   "source": [
    "# Check if a certain company exists in the it_companies list\n",
    "\n",
    "print('Q15.\\t', f'Is \"Svelt\" present in {it_companies}?:', 'Svelt' in it_companies )"
   ]
  },
  {
   "cell_type": "code",
   "execution_count": 95,
   "metadata": {},
   "outputs": [
    {
     "name": "stdout",
     "output_type": "stream",
     "text": [
      "Q16.\t Sort : ['Amazon', 'Apple', 'Facebook', 'Google', 'IBM', 'Microsoft', 'Oracle']\n"
     ]
    }
   ],
   "source": [
    "# Sort the list using sort() method\n",
    "\n",
    "it_companies_modified = it_companies.copy()\n",
    "it_companies_modified.sort()\n",
    "print('Q16.\\t', 'Sort :', it_companies_modified)"
   ]
  },
  {
   "cell_type": "code",
   "execution_count": 96,
   "metadata": {},
   "outputs": [
    {
     "name": "stdout",
     "output_type": "stream",
     "text": [
      "Q17.\t ['Oracle', 'Microsoft', 'IBM', 'Google', 'Facebook', 'Apple', 'Amazon']\n"
     ]
    }
   ],
   "source": [
    "# Reverse the list in descending order using reverse() method\n",
    "\n",
    "it_companies_modified.reverse()\n",
    "print('Q17.\\t', it_companies_modified)"
   ]
  },
  {
   "cell_type": "code",
   "execution_count": 98,
   "metadata": {},
   "outputs": [
    {
     "name": "stdout",
     "output_type": "stream",
     "text": [
      "Q18.\t ['Facebook', 'Google', 'Microsoft']\n"
     ]
    }
   ],
   "source": [
    "# Slice out the first 3 companies from the list\n",
    "\n",
    "print('Q18.\\t', it_companies[:3])"
   ]
  },
  {
   "cell_type": "code",
   "execution_count": 99,
   "metadata": {},
   "outputs": [
    {
     "name": "stdout",
     "output_type": "stream",
     "text": [
      "Q19.\t ['IBM', 'Oracle', 'Amazon']\n"
     ]
    }
   ],
   "source": [
    "# Slice out the last 3 companies from the list\n",
    "\n",
    "print('Q19.\\t', it_companies[-3:])"
   ]
  },
  {
   "cell_type": "code",
   "execution_count": 101,
   "metadata": {},
   "outputs": [
    {
     "name": "stdout",
     "output_type": "stream",
     "text": [
      "Q20\t ['Google', 'Microsoft', 'Apple', 'IBM', 'Oracle']\n"
     ]
    }
   ],
   "source": [
    "# Slice out the middle IT company or companies from the list\n",
    "\n",
    "print('Q20\\t', it_companies[1:-1])"
   ]
  },
  {
   "cell_type": "code",
   "execution_count": 102,
   "metadata": {},
   "outputs": [
    {
     "name": "stdout",
     "output_type": "stream",
     "text": [
      "Q21\t ['Google', 'Microsoft', 'Apple', 'IBM', 'Oracle', 'Amazon']\n"
     ]
    }
   ],
   "source": [
    "# Remove the first IT company from the list\n",
    "\n",
    "it_companies_modified = it_companies.copy()\n",
    "it_companies_modified.remove(it_companies_modified[0])\n",
    "print('Q21\\t', it_companies_modified)\n"
   ]
  },
  {
   "cell_type": "code",
   "execution_count": 103,
   "metadata": {},
   "outputs": [
    {
     "name": "stdout",
     "output_type": "stream",
     "text": [
      "Q22\t ['Facebook', 'Google', 'Microsoft', 'IBM', 'Oracle', 'Amazon']\n"
     ]
    }
   ],
   "source": [
    "# Remove the middle IT company or companies from the list\n",
    "\n",
    "it_companies_modified = it_companies.copy()\n",
    "it_companies_modified.remove(it_companies_modified[int(len(it_companies_modified)/2)])\n",
    "print('Q22\\t', it_companies_modified)"
   ]
  },
  {
   "cell_type": "code",
   "execution_count": 149,
   "metadata": {},
   "outputs": [
    {
     "name": "stdout",
     "output_type": "stream",
     "text": [
      "Q23\t ['Facebook', 'Google', 'Microsoft', 'Apple', 'IBM', 'Oracle']\n"
     ]
    }
   ],
   "source": [
    "# Remove the last IT company from the list\n",
    "\n",
    "it_companies_modified = it_companies.copy()\n",
    "it_companies_modified.pop()\n",
    "print('Q23\\t', it_companies_modified)"
   ]
  },
  {
   "cell_type": "code",
   "execution_count": 108,
   "metadata": {},
   "outputs": [
    {
     "name": "stdout",
     "output_type": "stream",
     "text": [
      "Q24\t []\n"
     ]
    }
   ],
   "source": [
    "# Remove all IT companies from the list\n",
    "\n",
    "it_companies_modified = it_companies.copy()\n",
    "it_companies_modified.clear()\n",
    "print('Q24\\t', it_companies_modified)"
   ]
  },
  {
   "cell_type": "code",
   "execution_count": null,
   "metadata": {},
   "outputs": [],
   "source": [
    "# Destroy the IT companies list\n",
    "\n",
    "del it_companies_modified\n",
    "print('Q25\\t', it_companies_modified)"
   ]
  },
  {
   "cell_type": "code",
   "execution_count": 114,
   "metadata": {},
   "outputs": [
    {
     "name": "stdout",
     "output_type": "stream",
     "text": [
      "Q26\t ['HTML', 'CSS', 'JS', 'React', 'Redux', 'Node', 'Express', 'MongoDB']\n"
     ]
    }
   ],
   "source": [
    "# Join the following lists:\n",
    "\n",
    "front_end = ['HTML', 'CSS', 'JS', 'React', 'Redux']\n",
    "back_end = ['Node','Express', 'MongoDB']\n",
    "\n",
    "print('Q26\\t', front_end + back_end)"
   ]
  },
  {
   "cell_type": "code",
   "execution_count": 119,
   "metadata": {},
   "outputs": [
    {
     "name": "stdout",
     "output_type": "stream",
     "text": [
      "Q27\t ['HTML', 'CSS', 'JS', 'React', 'Redux', ['Python', 'SQL'], 'Node', 'Express', 'MongoDB']\n"
     ]
    }
   ],
   "source": [
    "# After joining the lists in question 26. Copy the joined list and assign it to a variable full_stack, then insert Python and SQL after Redux\n",
    "\n",
    "stack = front_end + back_end\n",
    "full_stack = stack.copy()\n",
    "full_stack.insert(stack.index('Redux') + 1, ['Python', 'SQL'])\n",
    "print('Q27\\t', full_stack)"
   ]
  },
  {
   "cell_type": "markdown",
   "metadata": {},
   "source": [
    "### List Exercises : Level 2"
   ]
  },
  {
   "cell_type": "code",
   "execution_count": 129,
   "metadata": {},
   "outputs": [],
   "source": [
    "ages = [19, 22, 19, 24, 20, 25, 26, 24, 25, 24]"
   ]
  },
  {
   "cell_type": "code",
   "execution_count": 132,
   "metadata": {},
   "outputs": [
    {
     "name": "stdout",
     "output_type": "stream",
     "text": [
      "Sorted list: [19, 19, 20, 22, 24, 24, 24, 25, 25, 26]\n",
      " Maximum value is: 26\n",
      " Minimum value is: 19\n"
     ]
    }
   ],
   "source": [
    "# Sort the list and find the min and max age\n",
    "\n",
    "age_sort = sorted(ages)\n",
    "max_age = max(age_sort)\n",
    "min_age = min(age_sort)\n",
    "\n",
    "print(f'Sorted list: {age_sort}\\n',  f'Maximum value is: {max_age}\\n', f'Minimum value is: {min_age}')"
   ]
  },
  {
   "cell_type": "code",
   "execution_count": 134,
   "metadata": {},
   "outputs": [
    {
     "name": "stdout",
     "output_type": "stream",
     "text": [
      "Sorted age with max and min ages: [19, 19, 20, 22, 24, 24, 24, 25, 25, 26, 26, 19, 26, 19]\n"
     ]
    }
   ],
   "source": [
    "# Add the min age and the max age again to the list\n",
    "\n",
    "age_sort.append(max_age)\n",
    "age_sort.append(min_age)\n",
    "print('Sorted age with max and min ages:', age_sort)"
   ]
  },
  {
   "cell_type": "code",
   "execution_count": null,
   "metadata": {},
   "outputs": [
    {
     "name": "stdout",
     "output_type": "stream",
     "text": [
      "Median age is: 24.0\n"
     ]
    }
   ],
   "source": [
    "# Find the median age (one middle item or two middle items divided by two)\n",
    "\n",
    "def median(array):\n",
    "    array_lenght = len(array)\n",
    "    sorted_array = sorted(array)\n",
    "    if array_lenght%2 == 0:\n",
    "        return (sorted_array[int(array_lenght/2) -1] + sorted_array[int(array_lenght/2) ])/2\n",
    "    else:\n",
    "        return sorted_array[int(array_lenght/2)]\n",
    "\n",
    "print('Median age is:', median(ages))"
   ]
  },
  {
   "cell_type": "code",
   "execution_count": 142,
   "metadata": {},
   "outputs": [
    {
     "name": "stdout",
     "output_type": "stream",
     "text": [
      "Average sum of ages is: 22.5\n"
     ]
    }
   ],
   "source": [
    "# Find the average age (sum of all items divided by their number )\n",
    "\n",
    "def average(array):\n",
    "    max_age = max(array)\n",
    "    min_age = min(array)\n",
    "    return (max_age + min_age)/2\n",
    "\n",
    "print('Average sum of ages is:', average(ages))\n",
    "\n"
   ]
  },
  {
   "cell_type": "code",
   "execution_count": 144,
   "metadata": {},
   "outputs": [
    {
     "name": "stdout",
     "output_type": "stream",
     "text": [
      "Range of ages is: 7\n"
     ]
    }
   ],
   "source": [
    "# Find the range of the ages (max minus min)\n",
    "\n",
    "def array_range(array):\n",
    "    return max(array) - min(array)\n",
    "\n",
    "print('Range of ages is:', array_range(ages))"
   ]
  },
  {
   "cell_type": "code",
   "execution_count": 148,
   "metadata": {},
   "outputs": [
    {
     "name": "stdout",
     "output_type": "stream",
     "text": [
      "Compare values:\t min - average: 3.5 min - average: 3.5\n"
     ]
    }
   ],
   "source": [
    "# Compare the value of (min - average) and (max - average), use abs() method\n",
    "\n",
    "print('Compare values:\\t',f'min - average: {abs(min(ages) - average(ages))}', f'min - average: {abs(max(ages) - average(ages))}')"
   ]
  },
  {
   "cell_type": "code",
   "execution_count": 201,
   "metadata": {},
   "outputs": [
    {
     "name": "stdout",
     "output_type": "stream",
     "text": [
      "First half: ['Afghanistan', 'Albania', 'Algeria', 'Andorra', 'Angola', 'Antigua and Barbuda', 'Argentina', 'Armenia', 'Australia', 'Austria', 'Azerbaijan', 'Bahamas', 'Bahrain', 'Bangladesh', 'Barbados', 'Belarus', 'Belgium', 'Belize', 'Benin', 'Bhutan', 'Bolivia', 'Bosnia and Herzegovina', 'Botswana', 'Brazil', 'Brunei', 'Bulgaria', 'Burkina Faso', 'Burundi', 'Cambodia', 'Cameroon', 'Canada', 'Cape Verde', 'Central African Republic', 'Chad', 'Chile', 'China', 'Colombi', 'Comoros', 'Congo (Brazzaville)', 'Congo', 'Costa Rica', \"Cote d'Ivoire\", 'Croatia', 'Cuba', 'Cyprus', 'Czech Republic', 'Denmark', 'Djibouti', 'Dominica', 'Dominican Republic', 'East Timor (Timor Timur)', 'Ecuador', 'Egypt', 'El Salvador', 'Equatorial Guinea', 'Eritrea', 'Estonia', 'Ethiopia', 'Fiji', 'Finland', 'France', 'Gabon', 'Gambia, The', 'Georgia', 'Germany', 'Ghana', 'Greece', 'Grenada', 'Guatemala', 'Guinea', 'Guinea-Bissau', 'Guyana', 'Haiti', 'Honduras', 'Hungary', 'Iceland', 'India', 'Indonesia', 'Iran', 'Iraq', 'Ireland', 'Israel', 'Italy', 'Jamaica', 'Japan', 'Jordan', 'Kazakhstan', 'Kenya', 'Kiribati', 'Korea, North', 'Korea, South', 'Kuwait', 'Kyrgyzstan', 'Laos', 'Latvia', 'Lebanon', 'Lesotho']\n",
      "\n",
      "Second half: ['Liberia', 'Libya', 'Liechtenstein', 'Lithuania', 'Luxembourg', 'Macedonia', 'Madagascar', 'Malawi', 'Malaysia', 'Maldives', 'Mali', 'Malta', 'Marshall Islands', 'Mauritania', 'Mauritius', 'Mexico', 'Micronesia', 'Moldova', 'Monaco', 'Mongolia', 'Morocco', 'Mozambique', 'Myanmar', 'Namibia', 'Nauru', 'Nepal', 'Netherlands', 'New Zealand', 'Nicaragua', 'Niger', 'Nigeria', 'Norway', 'Oman', 'Pakistan', 'Palau', 'Panama', 'Papua New Guinea', 'Paraguay', 'Peru', 'Philippines', 'Poland', 'Portugal', 'Qatar', 'Romania', 'Russia', 'Rwanda', 'Saint Kitts and Nevis', 'Saint Lucia', 'Saint Vincent', 'Samoa', 'San Marino', 'Sao Tome and Principe', 'Saudi Arabia', 'Senegal', 'Serbia and Montenegro', 'Seychelles', 'Sierra Leone', 'Singapore', 'Slovakia', 'Slovenia', 'Solomon Islands', 'Somalia', 'South Africa', 'Spain', 'Sri Lanka', 'Sudan', 'Suriname', 'Swaziland', 'Sweden', 'Switzerland', 'Syria', 'Taiwan', 'Tajikistan', 'Tanzania', 'Thailand', 'Togo', 'Tonga', 'Trinidad and Tobago', 'Tunisia', 'Turkey', 'Turkmenistan', 'Tuvalu', 'Uganda', 'Ukraine', 'United Arab Emirates', 'United Kingdom', 'United States', 'Uruguay', 'Uzbekistan', 'Vanuatu', 'Vatican City', 'Venezuela', 'Vietnam', 'Yemen', 'Zambia', 'Zimbabwe']\n"
     ]
    }
   ],
   "source": [
    "countries = [\n",
    "  'Afghanistan',\n",
    "  'Albania',\n",
    "  'Algeria',\n",
    "  'Andorra',\n",
    "  'Angola',\n",
    "  'Antigua and Barbuda',\n",
    "  'Argentina',\n",
    "  'Armenia',\n",
    "  'Australia',\n",
    "  'Austria',\n",
    "  'Azerbaijan',\n",
    "  'Bahamas',\n",
    "  'Bahrain',\n",
    "  'Bangladesh',\n",
    "  'Barbados',\n",
    "  'Belarus',\n",
    "  'Belgium',\n",
    "  'Belize',\n",
    "  'Benin',\n",
    "  'Bhutan',\n",
    "  'Bolivia',\n",
    "  'Bosnia and Herzegovina',\n",
    "  'Botswana',\n",
    "  'Brazil',\n",
    "  'Brunei',\n",
    "  'Bulgaria',\n",
    "  'Burkina Faso',\n",
    "  'Burundi',\n",
    "  'Cambodia',\n",
    "  'Cameroon',\n",
    "  'Canada',\n",
    "  'Cape Verde',\n",
    "  'Central African Republic',\n",
    "  'Chad',\n",
    "  'Chile',\n",
    "  'China',\n",
    "  'Colombi',\n",
    "  'Comoros',\n",
    "  'Congo (Brazzaville)',\n",
    "  'Congo',\n",
    "  'Costa Rica',\n",
    "  \"Cote d'Ivoire\",\n",
    "  'Croatia',\n",
    "  'Cuba',\n",
    "  'Cyprus',\n",
    "  'Czech Republic',\n",
    "  'Denmark',\n",
    "  'Djibouti',\n",
    "  'Dominica',\n",
    "  'Dominican Republic',\n",
    "  'East Timor (Timor Timur)',\n",
    "  'Ecuador',\n",
    "  'Egypt',\n",
    "  'El Salvador',\n",
    "  'Equatorial Guinea',\n",
    "  'Eritrea',\n",
    "  'Estonia',\n",
    "  'Ethiopia',\n",
    "  'Fiji',\n",
    "  'Finland',\n",
    "  'France',\n",
    "  'Gabon',\n",
    "  'Gambia, The',\n",
    "  'Georgia',\n",
    "  'Germany',\n",
    "  'Ghana',\n",
    "  'Greece',\n",
    "  'Grenada',\n",
    "  'Guatemala',\n",
    "  'Guinea',\n",
    "  'Guinea-Bissau',\n",
    "  'Guyana',\n",
    "  'Haiti',\n",
    "  'Honduras',\n",
    "  'Hungary',\n",
    "  'Iceland',\n",
    "  'India',\n",
    "  'Indonesia',\n",
    "  'Iran',\n",
    "  'Iraq',\n",
    "  'Ireland',\n",
    "  'Israel',\n",
    "  'Italy',\n",
    "  'Jamaica',\n",
    "  'Japan',\n",
    "  'Jordan',\n",
    "  'Kazakhstan',\n",
    "  'Kenya',\n",
    "  'Kiribati',\n",
    "  'Korea, North',\n",
    "  'Korea, South',\n",
    "  'Kuwait',\n",
    "  'Kyrgyzstan',\n",
    "  'Laos',\n",
    "  'Latvia',\n",
    "  'Lebanon',\n",
    "  'Lesotho',\n",
    "  'Liberia',\n",
    "  'Libya',\n",
    "  'Liechtenstein',\n",
    "  'Lithuania',\n",
    "  'Luxembourg',\n",
    "  'Macedonia',\n",
    "  'Madagascar',\n",
    "  'Malawi',\n",
    "  'Malaysia',\n",
    "  'Maldives',\n",
    "  'Mali',\n",
    "  'Malta',\n",
    "  'Marshall Islands',\n",
    "  'Mauritania',\n",
    "  'Mauritius',\n",
    "  'Mexico',\n",
    "  'Micronesia',\n",
    "  'Moldova',\n",
    "  'Monaco',\n",
    "  'Mongolia',\n",
    "  'Morocco',\n",
    "  'Mozambique',\n",
    "  'Myanmar',\n",
    "  'Namibia',\n",
    "  'Nauru',\n",
    "  'Nepal',\n",
    "  'Netherlands',\n",
    "  'New Zealand',\n",
    "  'Nicaragua',\n",
    "  'Niger',\n",
    "  'Nigeria',\n",
    "  'Norway',\n",
    "  'Oman',\n",
    "  'Pakistan',\n",
    "  'Palau',\n",
    "  'Panama',\n",
    "  'Papua New Guinea',\n",
    "  'Paraguay',\n",
    "  'Peru',\n",
    "  'Philippines',\n",
    "  'Poland',\n",
    "  'Portugal',\n",
    "  'Qatar',\n",
    "  'Romania',\n",
    "  'Russia',\n",
    "  'Rwanda',\n",
    "  'Saint Kitts and Nevis',\n",
    "  'Saint Lucia',\n",
    "  'Saint Vincent',\n",
    "  'Samoa',\n",
    "  'San Marino',\n",
    "  'Sao Tome and Principe',\n",
    "  'Saudi Arabia',\n",
    "  'Senegal',\n",
    "  'Serbia and Montenegro',\n",
    "  'Seychelles',\n",
    "  'Sierra Leone',\n",
    "  'Singapore',\n",
    "  'Slovakia',\n",
    "  'Slovenia',\n",
    "  'Solomon Islands',\n",
    "  'Somalia',\n",
    "  'South Africa',\n",
    "  'Spain',\n",
    "  'Sri Lanka',\n",
    "  'Sudan',\n",
    "  'Suriname',\n",
    "  'Swaziland',\n",
    "  'Sweden',\n",
    "  'Switzerland',\n",
    "  'Syria',\n",
    "  'Taiwan',\n",
    "  'Tajikistan',\n",
    "  'Tanzania',\n",
    "  'Thailand',\n",
    "  'Togo',\n",
    "  'Tonga',\n",
    "  'Trinidad and Tobago',\n",
    "  'Tunisia',\n",
    "  'Turkey',\n",
    "  'Turkmenistan',\n",
    "  'Tuvalu',\n",
    "  'Uganda',\n",
    "  'Ukraine',\n",
    "  'United Arab Emirates',\n",
    "  'United Kingdom',\n",
    "  'United States',\n",
    "  'Uruguay',\n",
    "  'Uzbekistan',\n",
    "  'Vanuatu',\n",
    "  'Vatican City',\n",
    "  'Venezuela',\n",
    "  'Vietnam',\n",
    "  'Yemen',\n",
    "  'Zambia',\n",
    "  'Zimbabwe',\n",
    "]\n",
    "\n",
    "def split_halves(array):\n",
    "    array_lenght = len(array)\n",
    "    if array_lenght%2 == 0:\n",
    "        return (f'First half: {array[:int(array_lenght/2)]}'  \"\\n\"  \"\\n\"\n",
    "              f'Second half: {array[int(array_lenght/2):]}')\n",
    "    else:\n",
    "        return (f'First half: {array[:int(array_lenght/2)+1]}'  \"\\n\"  \"\\n\"\n",
    "               f'Second half: {array[int(array_lenght/2)+1:]}')\n",
    "    \n",
    "print(split_halves(countries))"
   ]
  },
  {
   "cell_type": "code",
   "execution_count": 168,
   "metadata": {},
   "outputs": [
    {
     "name": "stdout",
     "output_type": "stream",
     "text": [
      "China\n",
      "Russia\n",
      "USA\n",
      "['Finland', 'Sweden', 'Norway', 'Denmark']\n"
     ]
    }
   ],
   "source": [
    "first, second, third,*rest = ['China', 'Russia', 'USA', 'Finland', 'Sweden', 'Norway', 'Denmark']\n",
    "print(first)          # 1\n",
    "print(second)         # 2\n",
    "print(third)          # 3\n",
    "print(rest)           # [4,5,6,7,8,9]"
   ]
  },
  {
   "cell_type": "markdown",
   "metadata": {},
   "source": [
    "### Tuple Exercise: Level 1"
   ]
  },
  {
   "cell_type": "code",
   "execution_count": null,
   "metadata": {},
   "outputs": [],
   "source": [
    "# Create an empty tuple\n",
    "\n",
    "empty = ()"
   ]
  },
  {
   "cell_type": "code",
   "execution_count": 169,
   "metadata": {},
   "outputs": [],
   "source": [
    "# Create a tuple containing names of your sisters and your brothers (imaginary siblings are fine)\n",
    "\n",
    "brothers = 'Quadri', 'Alimi', 'Benard'\n",
    "sisters =   'Rukayat', 'Shafy'"
   ]
  },
  {
   "cell_type": "code",
   "execution_count": 171,
   "metadata": {},
   "outputs": [
    {
     "name": "stdout",
     "output_type": "stream",
     "text": [
      "('Quadri', 'Alimi', 'Benard', 'Rukayat', 'Shafy')\n"
     ]
    }
   ],
   "source": [
    "sibs = brothers + sisters\n",
    "print(sibs)"
   ]
  },
  {
   "cell_type": "code",
   "execution_count": 200,
   "metadata": {},
   "outputs": [
    {
     "name": "stdout",
     "output_type": "stream",
     "text": [
      "There are 5 siblings\n"
     ]
    }
   ],
   "source": [
    "# How many siblings do you have?\n",
    "\n",
    "print(f'There are {len(sibs)} siblings')"
   ]
  },
  {
   "cell_type": "code",
   "execution_count": 173,
   "metadata": {},
   "outputs": [
    {
     "name": "stdout",
     "output_type": "stream",
     "text": [
      "('Alhaji', 'Alhaja', 'Quadri', 'Alimi', 'Benard', 'Rukayat', 'Shafy')\n"
     ]
    }
   ],
   "source": [
    "# Modify the siblings tuple and add the name of your father and mother and assign it to family_members\n",
    "\n",
    "parents = 'Alhaji', 'Alhaja'\n",
    "family_members = parents + sibs\n",
    "\n",
    "print(family_members)"
   ]
  },
  {
   "cell_type": "markdown",
   "metadata": {},
   "source": [
    "### Tuple Exercises: Level 2"
   ]
  },
  {
   "cell_type": "code",
   "execution_count": 182,
   "metadata": {},
   "outputs": [
    {
     "name": "stdout",
     "output_type": "stream",
     "text": [
      "Q1.\n",
      "Alhaji\n",
      "Alhaja\n",
      "Quadri\n",
      "Alimi\n",
      "Benard\n",
      "Rukayat\n",
      "Shafy\n"
     ]
    }
   ],
   "source": [
    "# Unpack siblings and parents from family_members\n",
    "\n",
    "print('Q1.')\n",
    "for member in family_members:\n",
    "    print(member)"
   ]
  },
  {
   "cell_type": "code",
   "execution_count": 183,
   "metadata": {},
   "outputs": [
    {
     "name": "stdout",
     "output_type": "stream",
     "text": [
      "Q2.\t ('Orange', 'guava', 'watermelon', 'strawberry', 'broculli', 'carrot', 'carbage', 'spinach', 'eggs', 'meat', 'milk')\n"
     ]
    }
   ],
   "source": [
    "# Create fruits, vegetables and animal products tuples. Join the three tuples and assign it to a variable called food_stuff_tp.\n",
    "\n",
    "fruits = 'Orange', 'guava', 'watermelon', 'strawberry'\n",
    "vegetables = 'broculli', 'carrot', 'carbage', 'spinach'\n",
    "animal_products = 'eggs', 'meat', 'milk'\n",
    "food_stuff_tp = fruits + vegetables + animal_products\n",
    "print('Q2.\\t', food_stuff_tp)"
   ]
  },
  {
   "cell_type": "code",
   "execution_count": 185,
   "metadata": {},
   "outputs": [
    {
     "name": "stdout",
     "output_type": "stream",
     "text": [
      "Q3.\t ['Orange', 'guava', 'watermelon', 'strawberry', 'broculli', 'carrot', 'carbage', 'spinach', 'eggs', 'meat', 'milk']\n"
     ]
    }
   ],
   "source": [
    "# Change the about food_stuff_tp tuple to a food_stuff_lt list\n",
    "\n",
    "food_stuff_lt = list(food_stuff_tp)\n",
    "print('Q3.\\t', food_stuff_lt)"
   ]
  },
  {
   "cell_type": "code",
   "execution_count": 187,
   "metadata": {},
   "outputs": [
    {
     "name": "stdout",
     "output_type": "stream",
     "text": [
      "Q4.\t ['guava', 'watermelon', 'strawberry', 'broculli', 'carrot', 'carbage', 'spinach', 'eggs', 'meat']\n"
     ]
    }
   ],
   "source": [
    "# Slice out the middle item or items from the food_stuff_tp tuple or food_stuff_lt list\n",
    "\n",
    "print('Q4.\\t', food_stuff_lt[1:-1])"
   ]
  },
  {
   "cell_type": "code",
   "execution_count": 193,
   "metadata": {},
   "outputs": [
    {
     "name": "stdout",
     "output_type": "stream",
     "text": [
      "Q5.\n",
      "First three: ('Orange', 'guava', 'watermelon') \n",
      " Last three: ('eggs', 'meat', 'milk')\n"
     ]
    }
   ],
   "source": [
    "# Slice out the first three items and the last three items from food_staff_lt list\n",
    "\n",
    "first_three = food_stuff_tp[:3]\n",
    "last_three = food_stuff_tp[-3:]\n",
    "\n",
    "print('Q5.')\n",
    "print(f'First three: {first_three}', '\\n', f'Last three: {last_three}')"
   ]
  },
  {
   "cell_type": "code",
   "execution_count": null,
   "metadata": {},
   "outputs": [],
   "source": [
    "# Delete the food_staff_tp tuple completely\n",
    "food_stuff_tp_copy = food_stuff_tp.copy()\n",
    "del food_stuff_tp_copy\n",
    "print(food_stuff_tp_copy)"
   ]
  },
  {
   "cell_type": "code",
   "execution_count": 197,
   "metadata": {},
   "outputs": [
    {
     "name": "stdout",
     "output_type": "stream",
     "text": [
      "Q7.\t Is \"Spinach\" in food stuff list?: True\n"
     ]
    }
   ],
   "source": [
    "# Check if an item exists in tuple\n",
    "\n",
    "print('Q7.\\t', 'Is \"Spinach\" in food stuff list?:', 'spinach' in food_stuff_tp)"
   ]
  },
  {
   "cell_type": "code",
   "execution_count": 199,
   "metadata": {},
   "outputs": [
    {
     "name": "stdout",
     "output_type": "stream",
     "text": [
      "\t Is \"Estonia\" a nordic country?: False\n",
      "\t Is \"Iceland\" a nordic country?: True\n"
     ]
    }
   ],
   "source": [
    "nordic_countries = ('Denmark', 'Finland','Iceland', 'Norway', 'Sweden')\n",
    "\n",
    "\n",
    "print('\\t', 'Is \"Estonia\" a nordic country?:', 'Estonia' in nordic_countries)\n",
    "print('\\t','Is \"Iceland\" a nordic country?:', 'Iceland' in nordic_countries)"
   ]
  },
  {
   "cell_type": "markdown",
   "metadata": {},
   "source": [
    "### Sets Exercises: Level 1"
   ]
  },
  {
   "cell_type": "code",
   "execution_count": null,
   "metadata": {},
   "outputs": [],
   "source": [
    "# sets\n",
    "full_stack.insert(stack.index('Redux'), ['Python', 'SQL'])\n",
    "\n",
    "it_companies = {'Facebook', 'Google', 'Microsoft', 'Apple', 'IBM', 'Oracle', 'Amazon'}\n",
    "A = {19, 22, 24, 20, 25, 26}\n",
    "A_copy = A.copy()\n",
    "B = {19, 22, 20, 25, 26, 24, 28, 27}\n",
    "B_copy = B.copy\n",
    "age = [22, 19, 24, 25, 26, 24, 25, 24]"
   ]
  },
  {
   "cell_type": "code",
   "execution_count": 3,
   "metadata": {},
   "outputs": [
    {
     "name": "stdout",
     "output_type": "stream",
     "text": [
      "Q1\t Lenght of set \"it_companies\": 7\n"
     ]
    }
   ],
   "source": [
    "# Find the length of the set it_companies\n",
    "\n",
    "print('Q1\\t', 'Lenght of set \"it_companies\":', len(it_companies))"
   ]
  },
  {
   "cell_type": "code",
   "execution_count": 7,
   "metadata": {},
   "outputs": [
    {
     "name": "stdout",
     "output_type": "stream",
     "text": [
      "Q2\t Add \"Twitter\" to \"its_companies\":  {'Google', 'Amazon', 'Microsoft', 'Apple', 'Oracle', 'Facebook', 'IBM', 'Twitter'}\n"
     ]
    }
   ],
   "source": [
    "# Add 'Twitter' to it_companies\n",
    "added = it_companies.copy()\n",
    "added.add('Twitter')\n",
    "print('Q2\\t', 'Add \"Twitter\" to \"its_companies\": ', added)"
   ]
  },
  {
   "cell_type": "code",
   "execution_count": 45,
   "metadata": {},
   "outputs": [
    {
     "name": "stdout",
     "output_type": "stream",
     "text": [
      "Q3\t Add multiple items to it_companies {'Google', 'Amazon', 'Microsoft', 'Flutter', 'Swipe', 'Apple', 'Intel', 'Oracle', 'Facebook', 'IBM'}\n"
     ]
    }
   ],
   "source": [
    "# Insert multiple IT companies at once to the set it_companie\n",
    "\n",
    "new_it = {'Flutter', 'Swipe', 'Intel'}\n",
    "print('Q3\\t', 'Add multiple items to it_companies', it_companies.union(new_it))"
   ]
  },
  {
   "cell_type": "code",
   "execution_count": 13,
   "metadata": {},
   "outputs": [
    {
     "name": "stdout",
     "output_type": "stream",
     "text": [
      "Q4\t Remove one company from \"it_companies\": \n",
      " \t\"Google\" was removed, remains {'Amazon', 'Microsoft', 'Apple', 'Oracle', 'Facebook', 'IBM', 'Twitter'}\n"
     ]
    }
   ],
   "source": [
    "# Remove one of the companies from the set it_companies\n",
    "\n",
    "remove = it_companies.copy()\n",
    "print('Q4\\t','Remove one company from \"it_companies\": \\n', f'\\t\"{remove.pop()}\" was removed,', f'remains {remove}')"
   ]
  },
  {
   "cell_type": "markdown",
   "metadata": {},
   "source": [
    "#### Q5.\n",
    "remove() is used if you want to ensure the element exists in the set and want an error if it doesn't.\n",
    "\n",
    "while discard() is used if you want to remove the element without worrying about whether it exists or not."
   ]
  },
  {
   "cell_type": "markdown",
   "metadata": {},
   "source": [
    "### Sets Exercises: Level 2"
   ]
  },
  {
   "cell_type": "code",
   "execution_count": 46,
   "metadata": {},
   "outputs": [
    {
     "name": "stdout",
     "output_type": "stream",
     "text": [
      "Q1\t Join A and B: {19, 20, 22, 24, 25, 26, 27, 28}\n"
     ]
    }
   ],
   "source": [
    "# Join A and B\n",
    "\n",
    "print('Q1\\t', 'Join A and B:', A.union(B))"
   ]
  },
  {
   "cell_type": "code",
   "execution_count": 47,
   "metadata": {},
   "outputs": [
    {
     "name": "stdout",
     "output_type": "stream",
     "text": [
      "Q2\t Intersection A and B: {19, 20, 22, 24, 25, 26}\n"
     ]
    }
   ],
   "source": [
    "# Find A intersection B\n",
    "print('Q2\\t', 'Intersection A and B:', A.intersection(B))"
   ]
  },
  {
   "cell_type": "code",
   "execution_count": 48,
   "metadata": {},
   "outputs": [
    {
     "name": "stdout",
     "output_type": "stream",
     "text": [
      "Q3\t Is A a subset of B? : True\n"
     ]
    }
   ],
   "source": [
    "# Is A subset of B\n",
    "print('Q3\\t', 'Is A a subset of B? :', A.issubset(B))"
   ]
  },
  {
   "cell_type": "code",
   "execution_count": 49,
   "metadata": {},
   "outputs": [
    {
     "name": "stdout",
     "output_type": "stream",
     "text": [
      "Q4\t Is A and B disjoint?: False\n"
     ]
    }
   ],
   "source": [
    "# Are A and B disjoint sets\n",
    "print('Q4\\t', 'Is A and B disjoint?:', A.isdisjoint(B))"
   ]
  },
  {
   "cell_type": "code",
   "execution_count": 50,
   "metadata": {},
   "outputs": [
    {
     "name": "stdout",
     "output_type": "stream",
     "text": [
      "Q5\t Join A on B:  {19, 20, 22, 24, 25, 26, 27, 28}\n",
      "\t Join B on A:  {19, 20, 22, 24, 25, 26, 27, 28}\n"
     ]
    }
   ],
   "source": [
    "# Join A with B and B with A\n",
    "print('Q5\\t', 'Join A on B: ', A.union(B))\n",
    "print('\\t', 'Join B on A: ', B.union(A))"
   ]
  },
  {
   "cell_type": "code",
   "execution_count": 51,
   "metadata": {},
   "outputs": [
    {
     "name": "stdout",
     "output_type": "stream",
     "text": [
      "Q6\t Symmetric difference between A and B {27, 28}\n"
     ]
    }
   ],
   "source": [
    "# What is the symmetric difference between A and B\n",
    "\n",
    "print('Q6\\t', 'Symmetric difference between A and B', A.symmetric_difference(B))"
   ]
  },
  {
   "cell_type": "code",
   "execution_count": 52,
   "metadata": {},
   "outputs": [
    {
     "name": "stdout",
     "output_type": "stream",
     "text": [
      "Q7\t Delete the sets completely\n"
     ]
    }
   ],
   "source": [
    "# Delete the sets completely\n",
    "del A, B\n",
    "print('Q7\\t', 'Delete the sets completely')"
   ]
  },
  {
   "cell_type": "markdown",
   "metadata": {},
   "source": [
    "### Sets Exercises: Level 3"
   ]
  },
  {
   "cell_type": "code",
   "execution_count": 39,
   "metadata": {},
   "outputs": [
    {
     "name": "stdout",
     "output_type": "stream",
     "text": [
      "Q1.\n",
      "lenght of list is bigger\n"
     ]
    }
   ],
   "source": [
    "# Convert the ages to a set and compare the length of the list and the set, which one is bigger?\n",
    "\n",
    "print('Q1.')\n",
    "\n",
    "if len(age) > len(set(age)):\n",
    "    print('lenght of list is bigger')\n",
    "elif len(age) < len(set(age)):\n",
    "    print('lenght of set is bigger')\n",
    "else:\n",
    "    print('lenght of set and list are equal')"
   ]
  },
  {
   "cell_type": "markdown",
   "metadata": {},
   "source": [
    "Q2.     Explain the difference between the following data types: string, list, tuple and set\n",
    "\n",
    "- Immutability: Strings and tuples are immutable when created, while lists and set are mutable.\n",
    "- Order: Lists and tuples maintain the order of elements, while sets do not.\n",
    "- Uniqueness: Sets allow unique elements, while lists and tuples can have duplicated elements.\n",
    "- Indexing: Lists, tuples and strings support indexing, while sets do not."
   ]
  },
  {
   "cell_type": "code",
   "execution_count": 44,
   "metadata": {},
   "outputs": [
    {
     "name": "stdout",
     "output_type": "stream",
     "text": [
      "Q3.\t Unique words in the sentence \"I am a teacher and I love to inspire and teach people\" are:   10\n",
      " {'I', 'and', 'to', 'inspire', 'love', 'teacher', 'teach', 'people', 'a', 'am'}\n"
     ]
    }
   ],
   "source": [
    "# I am a teacher and I love to inspire and teach people. How many unique words have been used in the sentence? Use the split methods and set to get the unique words.\n",
    "\n",
    "word = 'I am a teacher and I love to inspire and teach people'\n",
    "\n",
    "print('Q3.\\t', f'Unique words in the sentence \"I am a teacher and I love to inspire and teach people\" are:   {len(set(word.split()))}\\n', set(word.split()) )\n",
    "\n"
   ]
  }
 ],
 "metadata": {
  "kernelspec": {
   "display_name": "condaVirtual",
   "language": "python",
   "name": "python3"
  },
  "language_info": {
   "codemirror_mode": {
    "name": "ipython",
    "version": 3
   },
   "file_extension": ".py",
   "mimetype": "text/x-python",
   "name": "python",
   "nbconvert_exporter": "python",
   "pygments_lexer": "ipython3",
   "version": "3.12.7"
  }
 },
 "nbformat": 4,
 "nbformat_minor": 2
}
