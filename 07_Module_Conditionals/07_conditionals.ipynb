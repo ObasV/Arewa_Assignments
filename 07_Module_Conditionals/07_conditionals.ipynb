{
 "cells": [
  {
   "cell_type": "markdown",
   "metadata": {},
   "source": [
    "# Module 7 - Conditionals"
   ]
  },
  {
   "cell_type": "markdown",
   "metadata": {},
   "source": [
    "### Exercises: Level 1"
   ]
  },
  {
   "cell_type": "code",
   "execution_count": 2,
   "metadata": {},
   "outputs": [
    {
     "name": "stdout",
     "output_type": "stream",
     "text": [
      "You are old enough to drive\n"
     ]
    }
   ],
   "source": [
    "age = int(input('Enter your age: '))\n",
    "\n",
    "if age >= 18:\n",
    "    print('You are old enough to drive')\n",
    "else:\n",
    "    print(f'You need {18 - age} more years to learn to drive')"
   ]
  },
  {
   "cell_type": "code",
   "execution_count": 5,
   "metadata": {},
   "outputs": [
    {
     "name": "stdout",
     "output_type": "stream",
     "text": [
      "Enter your age: 30\n",
      "You or I is 1 year older\n"
     ]
    }
   ],
   "source": [
    "your_age = int( input('Enter your age: ') )\n",
    "my_age = int( input('Enter your my: ') )\n",
    "\n",
    "print(f'Enter your age: {your_age}')\n",
    "\n",
    "if my_age == your_age:\n",
    "    print('We are age mates')\n",
    "elif abs(my_age - your_age) == 1:\n",
    "    print('You or I is 1 year older')\n",
    "elif my_age > your_age:\n",
    "    print(f'I am {my_age - your_age} years older than you are')\n",
    "else:\n",
    "    print(f'You are {your_age - my_age} years older than me')\n"
   ]
  },
  {
   "cell_type": "code",
   "execution_count": 7,
   "metadata": {},
   "outputs": [
    {
     "name": "stdout",
     "output_type": "stream",
     "text": [
      "Enter number one: 56\n",
      "Enter number two: 65\n",
      "56 is smaller than 65\n"
     ]
    }
   ],
   "source": [
    "a = int(input('Enter number one: '))\n",
    "b = int(input('Enter number two: '))\n",
    "\n",
    "print('Enter number one:', a)\n",
    "print('Enter number two:', b)\n",
    "\n",
    "if a > b:\n",
    "    print(f'{a} is greater than {b}')\n",
    "elif a < b:\n",
    "    print(f'{a} is smaller than {b}')\n",
    "else:\n",
    "    print(f'{a} is equal to {b}')"
   ]
  },
  {
   "cell_type": "markdown",
   "metadata": {},
   "source": [
    "### Exercises: Level 2"
   ]
  },
  {
   "cell_type": "code",
   "execution_count": 17,
   "metadata": {},
   "outputs": [
    {
     "name": "stdout",
     "output_type": "stream",
     "text": [
      "A\n"
     ]
    }
   ],
   "source": [
    "score = float(input('Provide your score between 0 - 100'))\n",
    "\n",
    "if score > 100 or score < 0:\n",
    "    print('Invalid score')\n",
    "elif score >= 80:\n",
    "    print('A')\n",
    "elif score >= 70:\n",
    "    print('B')\n",
    "elif score >= 60:\n",
    "    print('C')\n",
    "elif score >= 50:\n",
    "    print('D')\n",
    "else:\n",
    "    print('F')\n"
   ]
  },
  {
   "cell_type": "code",
   "execution_count": 23,
   "metadata": {},
   "outputs": [
    {
     "name": "stdout",
     "output_type": "stream",
     "text": [
      "June\n",
      "Summer\n"
     ]
    }
   ],
   "source": [
    "month = input('What month are you?')\n",
    "month = month.title()\n",
    "\n",
    "print(month)\n",
    "\n",
    "if month in [\"September\", \"October\", \"November\"] :\n",
    "    print('Autumn')\n",
    "elif month in [\"December\", \"January\", \"February\"] :\n",
    "    print('Winter')\n",
    "elif month in [\"March\", \"April\", \"May\"] :\n",
    "    print('Spring')\n",
    "elif month in ['June', \"July\", \"August\"] :\n",
    "    print('Summer')\n",
    "else:\n",
    "    print('Invalid entry')"
   ]
  },
  {
   "cell_type": "code",
   "execution_count": 26,
   "metadata": {},
   "outputs": [
    {
     "name": "stdout",
     "output_type": "stream",
     "text": [
      "['banana', 'orange', 'mango', 'lemon', 'apple']\n"
     ]
    }
   ],
   "source": [
    "your_fruit = input('Enter a fruit name:')\n",
    "your_fruit = your_fruit.lower()\n",
    "\n",
    "fruits = ['banana', 'orange', 'mango', 'lemon']\n",
    "\n",
    "if your_fruit in fruits:\n",
    "    print('That fruit already exist in the list')\n",
    "else:\n",
    "    fruits.append(your_fruit)\n",
    "    print(fruits)\n"
   ]
  },
  {
   "cell_type": "markdown",
   "metadata": {},
   "source": [
    "### Exercises: Level 3"
   ]
  },
  {
   "cell_type": "code",
   "execution_count": 28,
   "metadata": {},
   "outputs": [],
   "source": [
    "person={\n",
    "    'first_name': 'Asabeneh',\n",
    "    'last_name': 'Yetayeh',\n",
    "    'age': 250,\n",
    "    'country': 'Finland',\n",
    "    'is_marred': True,\n",
    "    'skills': ['JavaScript', 'React', 'Node', 'MongoDB', 'Python'],\n",
    "    'address': {\n",
    "        'street': 'Space street',\n",
    "        'zipcode': '02210'\n",
    "    }\n",
    "    }"
   ]
  },
  {
   "cell_type": "code",
   "execution_count": 37,
   "metadata": {},
   "outputs": [
    {
     "name": "stdout",
     "output_type": "stream",
     "text": [
      "Node\n"
     ]
    }
   ],
   "source": [
    "# Check if the person dictionary has skills key, if so print out the middle skill in the skills list.\n",
    "\n",
    "keys = person.keys()\n",
    "if 'skills' in keys:\n",
    "    print(person['skills'][int(len(person['skills'])/2)])"
   ]
  },
  {
   "cell_type": "code",
   "execution_count": 30,
   "metadata": {},
   "outputs": [
    {
     "name": "stdout",
     "output_type": "stream",
     "text": [
      "True\n"
     ]
    }
   ],
   "source": [
    "# Check if the person dictionary has skills key, if so check if the person has 'Python' skill and print out the result.\n",
    "\n",
    "if 'skills' in keys and 'Python' in person['skills']:\n",
    "    print(True)"
   ]
  },
  {
   "cell_type": "code",
   "execution_count": 34,
   "metadata": {},
   "outputs": [
    {
     "name": "stdout",
     "output_type": "stream",
     "text": [
      "He is a backend developer\n"
     ]
    }
   ],
   "source": [
    "# If a person skills has only JavaScript and React, print('He is a front end developer'), if the person skills has Node, Python, MongoDB, print('He is a backend developer'), if the person skills has React, Node and MongoDB, Print('He is a fullstack developer'), else print('unknown title') - for more accurate results more conditions can be nested!\n",
    "\n",
    "if [\"JavaScript\", \"React\"] == person['skills']:\n",
    "    print('He is a front end developer')\n",
    "elif \"Node\" in person['skills'] and \"Python\" in person['skills'] and \"MongoDB\" in person['skills']:\n",
    "    print('He is a backend developer')\n",
    "elif \"React\" in person['skills'] and \"Node\" in person['skills'] and \"MongoDB\" in person['skills']:\n",
    "    print('He is a fullstack developer')\n",
    "else:\n",
    "    print('unknown title')"
   ]
  },
  {
   "cell_type": "code",
   "execution_count": 35,
   "metadata": {},
   "outputs": [
    {
     "name": "stdout",
     "output_type": "stream",
     "text": [
      "Asabeneh Yetayeh lives in Finland. He is married\n"
     ]
    }
   ],
   "source": [
    "# If the person is married and if he lives in Finland, print the information in the following format\n",
    "\n",
    "if person['is_marred'] and person['country'] == 'Finland' :\n",
    "    print(   f'{person['first_name']} {person['last_name']} lives in {person['country']}. He is married')"
   ]
  }
 ],
 "metadata": {
  "kernelspec": {
   "display_name": "condaVirtual",
   "language": "python",
   "name": "python3"
  },
  "language_info": {
   "codemirror_mode": {
    "name": "ipython",
    "version": 3
   },
   "file_extension": ".py",
   "mimetype": "text/x-python",
   "name": "python",
   "nbconvert_exporter": "python",
   "pygments_lexer": "ipython3",
   "version": "3.12.7"
  }
 },
 "nbformat": 4,
 "nbformat_minor": 2
}
