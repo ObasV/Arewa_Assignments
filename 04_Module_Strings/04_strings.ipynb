{
 "cells": [
  {
   "cell_type": "markdown",
   "metadata": {
    "vscode": {
     "languageId": "plaintext"
    }
   },
   "source": [
    "# Welcome to Module 4 - Strings"
   ]
  },
  {
   "cell_type": "code",
   "execution_count": 142,
   "metadata": {},
   "outputs": [
    {
     "name": "stdout",
     "output_type": "stream",
     "text": [
      "Q1.\t Thirty Days Of Python\n"
     ]
    }
   ],
   "source": [
    "# Concatenate the string 'Thirty', 'Days', 'Of', 'Python' to a single string, 'Thirty Days Of Python'\n",
    "\n",
    "print('Q1.\\t','Thirty'+ ' '+ 'Days' + ' ' + 'Of' + ' ' + 'Python')"
   ]
  },
  {
   "cell_type": "code",
   "execution_count": 143,
   "metadata": {},
   "outputs": [
    {
     "name": "stdout",
     "output_type": "stream",
     "text": [
      "Q2.\t Coding For All\n"
     ]
    }
   ],
   "source": [
    "# Concatenate the string 'Coding', 'For' , 'All' to a single string, 'Coding For All'\n",
    "\n",
    "print('Q2.\\t','Coding' + ' ' + 'For' + ' ' + 'All')"
   ]
  },
  {
   "cell_type": "code",
   "execution_count": 144,
   "metadata": {},
   "outputs": [],
   "source": [
    "# Declare a variable named company and assign it to an initial value \"Coding For All\"\n",
    "\n",
    "company = \"Coding For All\""
   ]
  },
  {
   "cell_type": "code",
   "execution_count": 145,
   "metadata": {},
   "outputs": [
    {
     "name": "stdout",
     "output_type": "stream",
     "text": [
      "Q4.\t Coding For All\n"
     ]
    }
   ],
   "source": [
    "# Print the variable company using print()\n",
    "print('Q4.\\t',company)"
   ]
  },
  {
   "cell_type": "code",
   "execution_count": 146,
   "metadata": {},
   "outputs": [
    {
     "name": "stdout",
     "output_type": "stream",
     "text": [
      "Q5.\t Lenght  14\n"
     ]
    }
   ],
   "source": [
    "# Print the length of the company string using len() method and print()\n",
    "print('Q5.\\t', 'Lenght ',len(company))"
   ]
  },
  {
   "cell_type": "code",
   "execution_count": 147,
   "metadata": {},
   "outputs": [
    {
     "name": "stdout",
     "output_type": "stream",
     "text": [
      "Q6.\t Upper:  CODING FOR ALL\n"
     ]
    }
   ],
   "source": [
    "# Change all the characters to uppercase letters using upper() method\n",
    "print('Q6.\\t','Upper: ',company.upper())"
   ]
  },
  {
   "cell_type": "code",
   "execution_count": 148,
   "metadata": {},
   "outputs": [
    {
     "name": "stdout",
     "output_type": "stream",
     "text": [
      "Q7.\t Lower:  coding for all\n"
     ]
    }
   ],
   "source": [
    "# Change all the characters to lowercase letters using lower() method\n",
    "print('Q7.\\t', 'Lower: ', company.lower())"
   ]
  },
  {
   "cell_type": "code",
   "execution_count": 149,
   "metadata": {},
   "outputs": [
    {
     "name": "stdout",
     "output_type": "stream",
     "text": [
      "Q8.\t Capitalize:  Coding for all\n",
      "\t Title:  Coding For All\n",
      "\t Swapcase:  cODING fOR aLL\n"
     ]
    }
   ],
   "source": [
    "# Use capitalize(), title(), swapcase() methods to format the value of the string Coding For All\n",
    "print('Q8.\\t','Capitalize: ', company.capitalize())\n",
    "print('\\t','Title: ', company.title())\n",
    "print('\\t','Swapcase: ', company.swapcase())"
   ]
  },
  {
   "cell_type": "code",
   "execution_count": 150,
   "metadata": {},
   "outputs": [
    {
     "name": "stdout",
     "output_type": "stream",
     "text": [
      "Q9.\t First word: Coding\n"
     ]
    }
   ],
   "source": [
    "# Cut(slice) out the first word of Coding For All string\n",
    "popped = company.split(' ')[0]\n",
    "print('Q9.\\t', 'First word:',  popped)"
   ]
  },
  {
   "cell_type": "code",
   "execution_count": 151,
   "metadata": {},
   "outputs": [
    {
     "name": "stdout",
     "output_type": "stream",
     "text": [
      "Q10.\t Is \"Coding\" present in \"Coding For All\"?:  True\n",
      "\t Using find():  0\n",
      "\t Using index():  0\n"
     ]
    }
   ],
   "source": [
    "# Check if Coding For All string contains a word Coding using the method index, find or other methods.\n",
    "print('Q10.\\t', f'Is \"Coding\" present in \"{company}\"?: ', 'Coding' in company)\n",
    "print('\\t', 'Using find(): ', company.find('Coding'))\n",
    "print('\\t', 'Using index(): ', company.split(' ').index('Coding'))"
   ]
  },
  {
   "cell_type": "code",
   "execution_count": 152,
   "metadata": {},
   "outputs": [
    {
     "name": "stdout",
     "output_type": "stream",
     "text": [
      "Q11.\t \"Coding For All\" -> Python For All\n"
     ]
    }
   ],
   "source": [
    "# Replace the word coding in the string 'Coding For All' to Python\n",
    "print('Q11.\\t', f'\"{company}\" ->', company.replace('Coding', 'Python'))"
   ]
  },
  {
   "cell_type": "code",
   "execution_count": 153,
   "metadata": {},
   "outputs": [
    {
     "name": "stdout",
     "output_type": "stream",
     "text": [
      "Q12.\t Python for Everyone -> Python for All\n"
     ]
    }
   ],
   "source": [
    "# Change Python for Everyone to Python for All using the replace method or other methods.\n",
    "print('Q12.\\t', 'Python for Everyone ->', 'Python for Everyone'.replace('Everyone', 'All'))"
   ]
  },
  {
   "cell_type": "code",
   "execution_count": 154,
   "metadata": {},
   "outputs": [
    {
     "name": "stdout",
     "output_type": "stream",
     "text": [
      "Q13.\t \"Coding For All\" -> ['Coding', 'For', 'All']\n"
     ]
    }
   ],
   "source": [
    "# Split the string 'Coding For All' using space as the separator (split()) \n",
    "print('Q13.\\t', f'\"{company}\" ->', company.split(' '))"
   ]
  },
  {
   "cell_type": "code",
   "execution_count": 155,
   "metadata": {},
   "outputs": [
    {
     "name": "stdout",
     "output_type": "stream",
     "text": [
      "Q14.\t\n",
      "'Facebook, Google, Microsoft, Apple, IBM, Oracle, Amazon' when split():\n",
      "['Facebook', ' Google', ' Microsoft', ' Apple', ' IBM', ' Oracle', ' Amazon']\n"
     ]
    }
   ],
   "source": [
    "# \"Facebook, Google, Microsoft, Apple, IBM, Oracle, Amazon\" split the string at the comma.\n",
    "\n",
    "print('Q14.\\t', \"'Facebook, Google, Microsoft, Apple, IBM, Oracle, Amazon' when split():\", \n",
    "      \"Facebook, Google, Microsoft, Apple, IBM, Oracle, Amazon\".split(','), sep='\\n')"
   ]
  },
  {
   "cell_type": "code",
   "execution_count": 156,
   "metadata": {},
   "outputs": [
    {
     "name": "stdout",
     "output_type": "stream",
     "text": [
      "Q15.\t Character at index 0 in the phrase \"Coding For All\" is: C\n"
     ]
    }
   ],
   "source": [
    "# What is the character at index 0 in the string Coding For All\n",
    "print('Q15.\\t', f'Character at index 0 in the phrase \"{company}\" is:', company[0])"
   ]
  },
  {
   "cell_type": "code",
   "execution_count": 157,
   "metadata": {},
   "outputs": [
    {
     "name": "stdout",
     "output_type": "stream",
     "text": [
      "Q16.\t Last index in the phrase \"Coding For All\" is:  13\n"
     ]
    }
   ],
   "source": [
    "# What is the last index of the string Coding For All\n",
    "print('Q16.\\t', f'Last index in the phrase \"{company}\" is: ', company.rindex('l'))"
   ]
  },
  {
   "cell_type": "code",
   "execution_count": 158,
   "metadata": {},
   "outputs": [
    {
     "name": "stdout",
     "output_type": "stream",
     "text": [
      "Q17.\t Character at index 10 in \"Coding For All\" is:   \n"
     ]
    }
   ],
   "source": [
    "# What character is at index 10 in \"Coding For All\" string\n",
    "print('Q17.\\t', f'Character at index 10 in \"{company}\" is: ', company[10])"
   ]
  },
  {
   "cell_type": "code",
   "execution_count": 159,
   "metadata": {},
   "outputs": [
    {
     "name": "stdout",
     "output_type": "stream",
     "text": [
      "Q18.\t Acronym for the phrase \"Python For Everyone\" is:  P.F.E.\n"
     ]
    }
   ],
   "source": [
    "# Create an acronym or an abbreviation for the name 'Python For Everyone\n",
    "def acronym(words):\n",
    "    words = words.split(' ')\n",
    "    acronyms = ''\n",
    "    for cap in words:\n",
    "        acronyms += cap[0] + '.'\n",
    "    return acronyms\n",
    "print('Q18.\\t', 'Acronym for the phrase \"Python For Everyone\" is: ', acronym(\"Python For Everyone\") )"
   ]
  },
  {
   "cell_type": "code",
   "execution_count": 160,
   "metadata": {},
   "outputs": [
    {
     "name": "stdout",
     "output_type": "stream",
     "text": [
      "Q19.\t Acronym for the phrase \"Coding For All\" is:  C.F.A.\n"
     ]
    }
   ],
   "source": [
    "# Create an acronym or an abbreviation for the name 'Coding For All'.\n",
    "print('Q19.\\t', f'Acronym for the phrase \"{company}\" is: ', acronym(company))"
   ]
  },
  {
   "cell_type": "code",
   "execution_count": 161,
   "metadata": {},
   "outputs": [
    {
     "name": "stdout",
     "output_type": "stream",
     "text": [
      "Q20.\t Position of \"C\" in the phrase \"Coding For All\" is: 0\n"
     ]
    }
   ],
   "source": [
    "# Use index to determine the position of the first occurrence of C in Coding For All\n",
    "print('Q20.\\t', f'Position of \"C\" in the phrase \"{company}\" is:', company.index('C'))"
   ]
  },
  {
   "cell_type": "code",
   "execution_count": 162,
   "metadata": {},
   "outputs": [
    {
     "name": "stdout",
     "output_type": "stream",
     "text": [
      "Q21.\t Position of \"F\" in the phrase \"Coding For All\" is: 7\n"
     ]
    }
   ],
   "source": [
    "# Use index to determine the position of the first occurrence of F in Coding For All\n",
    "print('Q21.\\t', f'Position of \"F\" in the phrase \"{company}\" is:', company.find('F'))"
   ]
  },
  {
   "cell_type": "code",
   "execution_count": 163,
   "metadata": {},
   "outputs": [
    {
     "name": "stdout",
     "output_type": "stream",
     "text": [
      "Q22.\t The position of \"l\" in Coding For All using rfind() is: 13\n"
     ]
    }
   ],
   "source": [
    "# Use rfind to determine the position of the last occurrence of l in Coding For All People\n",
    "print('Q22.\\t', f'The position of \"l\" in {company} using rfind() is:', company.rfind('l'))"
   ]
  },
  {
   "cell_type": "code",
   "execution_count": 164,
   "metadata": {},
   "outputs": [
    {
     "name": "stdout",
     "output_type": "stream",
     "text": [
      "Q23.\t Position of the first occurence of \"because\" in the sentence\n",
      " \"You cannot end a sentence with because because because is a conjunction\" is:  31\n"
     ]
    }
   ],
   "source": [
    "# Use index or find to find the position of the first occurrence of the word 'because' in the following sentence: \n",
    "# 'You cannot end a sentence with because because because is a conjunction'\n",
    "sentence = 'You cannot end a sentence with because because because is a conjunction'\n",
    "print('Q23.\\t', f'Position of the first occurence of \"because\" in the sentence\\n \"{sentence}\" is: ',\n",
    "      sentence.find('because'))\n"
   ]
  },
  {
   "cell_type": "code",
   "execution_count": 165,
   "metadata": {},
   "outputs": [
    {
     "name": "stdout",
     "output_type": "stream",
     "text": [
      "Q24.\t Position of the last occurence of \"because\" in the sentence\n",
      " \"You cannot end a sentence with because because because is a conjunction\" using rindex() is:  47\n"
     ]
    }
   ],
   "source": [
    "# Use rindex to find the position of the last occurrence of the word because in the following sentence: \n",
    "# 'You cannot end a sentence with because because because is a conjunction'\n",
    "print('Q24.\\t', f'Position of the last occurence of \"because\" in the sentence\\n \"{sentence}\" using rindex() is: ',\n",
    "      sentence.rindex('because'))"
   ]
  },
  {
   "cell_type": "code",
   "execution_count": 179,
   "metadata": {},
   "outputs": [
    {
     "name": "stdout",
     "output_type": "stream",
     "text": [
      "Q25.\t To slice out \"because because because\" in the sentence \n",
      " \"You cannot end a sentence with because because because is a conjunction\" is: You cannot end a sentence with is a conjunction\n"
     ]
    }
   ],
   "source": [
    "# Slice out the phrase 'because because because' in the following sentence: \n",
    "# 'You cannot end a sentence with because because because is a conjunction'\n",
    "print('Q25.\\t', f'To slice out \"because because because\" in the sentence \\n \"{sentence}\" is:',\n",
    "      sentence.replace(\"because because because \", ''))"
   ]
  },
  {
   "cell_type": "code",
   "execution_count": 180,
   "metadata": {},
   "outputs": [
    {
     "name": "stdout",
     "output_type": "stream",
     "text": [
      "Q26.\t Position of occurence of the word \"because\" in the sentence \n",
      " \"You cannot end a sentence with because because because is a conjunction\" is: 31\n"
     ]
    }
   ],
   "source": [
    "# Find the position of the first occurrence of the word \n",
    "# 'because' in the following sentence: 'You cannot end a \n",
    "# sentence with because because because is a conjunction'\n",
    "\n",
    "print('Q26.\\t', f'Position of occurence of the word \"because\" in the sentence \\n \"{sentence}\" is:',\n",
    "      sentence.index(\"because\"))"
   ]
  },
  {
   "cell_type": "code",
   "execution_count": 181,
   "metadata": {},
   "outputs": [
    {
     "name": "stdout",
     "output_type": "stream",
     "text": [
      "Q27.\t To slice out \"because because because\" in the sentence \n",
      " \"You cannot end a sentence with because because because is a conjunction\" is:\n",
      " You cannot end a sentence with is a conjunction\n"
     ]
    }
   ],
   "source": [
    "# Slice out the phrase 'because because because' in the following sentence: \n",
    "# 'You cannot end a sentence with because because because is a conjunction'\n",
    "\n",
    "print('Q27.\\t', f'To slice out \"because because because\" in the sentence \\n \"{sentence}\" is:\\n',\n",
    "      sentence.replace(\"because because because \", ''))"
   ]
  },
  {
   "cell_type": "code",
   "execution_count": 182,
   "metadata": {},
   "outputs": [
    {
     "name": "stdout",
     "output_type": "stream",
     "text": [
      "Q28.\t Does \"Coding For All\" starts with \"Coding\" ?: True\n"
     ]
    }
   ],
   "source": [
    "# Does ''Coding For All' start with a substring Coding?\n",
    "\n",
    "print('Q28.\\t', f'Does \"{company}\" starts with \"Coding\" ?:', company.split(' ')[0] == \"Coding\")"
   ]
  },
  {
   "cell_type": "code",
   "execution_count": 183,
   "metadata": {},
   "outputs": [
    {
     "name": "stdout",
     "output_type": "stream",
     "text": [
      "Q29.\t Does \"Coding For All\" end with \"Coding\" ?: False\n"
     ]
    }
   ],
   "source": [
    "# Does 'Coding For All' end with a substring coding?\n",
    "\n",
    "print('Q29.\\t', f'Does \"{company}\" end with \"Coding\" ?:', company.split(' ')[-1] == \"Coding\")"
   ]
  },
  {
   "cell_type": "code",
   "execution_count": 184,
   "metadata": {},
   "outputs": [
    {
     "name": "stdout",
     "output_type": "stream",
     "text": [
      "Q30.\tRemove left and right spaces in \"   Coding For All      \": Coding For All\n"
     ]
    }
   ],
   "source": [
    "# '   Coding For All      '  , remove the left and right trailing spaces in the given string.\n",
    "\n",
    "print('Q30.\\t' f'Remove left and right spaces in \"   Coding For All      \":', '   Coding For All      '.strip())"
   ]
  },
  {
   "cell_type": "code",
   "execution_count": 185,
   "metadata": {},
   "outputs": [
    {
     "name": "stdout",
     "output_type": "stream",
     "text": [
      "Q31.\t Which is and identifier?: \n",
      " 30DaysOfPython  : False \n",
      " thirty_days_of_python  : True\n"
     ]
    }
   ],
   "source": [
    "# Which one of the following variables return True when we use the method isidentifier():\n",
    "\n",
    "print('Q31.\\t', f\"Which is and identifier?: \\n\", f'30DaysOfPython  : {\"30DaysOfPython\".isidentifier()} \\n',\n",
    "      f'thirty_days_of_python  : {\"thirty_days_of_python\".isidentifier()}')"
   ]
  },
  {
   "cell_type": "code",
   "execution_count": 186,
   "metadata": {},
   "outputs": [
    {
     "name": "stdout",
     "output_type": "stream",
     "text": [
      "Q32.\t Django#Flask#Bottle#Pyramid#Falcon#\n",
      "       Django Flask Bottle Pyramid Falcon \n"
     ]
    }
   ],
   "source": [
    "# Join  ['Django', 'Flask', 'Bottle', 'Pyramid', 'Falcon'] with a '#' \n",
    "\n",
    "library =  ['Django', 'Flask', 'Bottle', 'Pyramid', 'Falcon']\n",
    "\n",
    "def joined_array(arr, sign, joined) :\n",
    "    \n",
    "    for ele in arr:\n",
    "        joined += ele + sign\n",
    "    return joined\n",
    "\n",
    "print('Q32.\\t',  joined_array(library, \"#\", \"\"))\n",
    "print('      ',  joined_array(library, \" \", \"\"))"
   ]
  },
  {
   "cell_type": "code",
   "execution_count": 187,
   "metadata": {},
   "outputs": [
    {
     "name": "stdout",
     "output_type": "stream",
     "text": [
      "Q33.\t I am enjoying this challenge.\n",
      "\n",
      "I just wonder what is next.\n"
     ]
    }
   ],
   "source": [
    "print('Q33.\\t', '''I am enjoying this challenge.\\n\n",
    "I just wonder what is next.''')"
   ]
  },
  {
   "cell_type": "code",
   "execution_count": 188,
   "metadata": {},
   "outputs": [
    {
     "name": "stdout",
     "output_type": "stream",
     "text": [
      "Q34.\t Name  \t    Age   \t  Country  \t City  \n",
      "       Asabeneh \t 250   \t  Finland  \t Helsinki\n"
     ]
    }
   ],
   "source": [
    "print('Q34.\\t', 'Name  \\t    Age   \\t  Country  \\t City  \\n ', '   ', ' Asabeneh \\t 250   \\t  Finland  \\t Helsinki')"
   ]
  },
  {
   "cell_type": "code",
   "execution_count": 189,
   "metadata": {},
   "outputs": [
    {
     "name": "stdout",
     "output_type": "stream",
     "text": [
      "Q35.\t radius = 10\n",
      "       area = 3.14 * radius ** 2 \n",
      "       The area of a circle with radius 10 is 314 meters square.\n",
      "\n"
     ]
    }
   ],
   "source": [
    "print('Q35.\\t', 'radius = 10\\n', '     ', 'area = 3.14 * radius ** 2 \\n', '     ', 'The area of a circle with radius 10 is 314 meters square.\\n')"
   ]
  },
  {
   "cell_type": "code",
   "execution_count": 190,
   "metadata": {},
   "outputs": [
    {
     "name": "stdout",
     "output_type": "stream",
     "text": [
      "36.\t\n",
      "8 + 6 = 14 \n",
      " 8 - 6 = 2 \n",
      " 8 * 6 = 48 \n",
      " 8 / 6 = 1.33\n",
      " 8 % 6 = 2 \n",
      " 8 // 6 = 1 \n",
      " 8 ** 6 = 262144\n"
     ]
    }
   ],
   "source": [
    "print('36.\\t')\n",
    "print(f'8 + 6 = {8 + 6} \\n', f'8 - 6 = {8 - 6} \\n', f'8 * 6 = {8 * 6} \\n', \n",
    "      f'8 / 6 = {8 / 6 :.2f}\\n', f'8 % 6 = {8 % 6} \\n', f'8 // 6 = {8 // 6} \\n',\n",
    "      f'8 ** 6 = {8 ** 6}')"
   ]
  }
 ],
 "metadata": {
  "kernelspec": {
   "display_name": "condaVirtual",
   "language": "python",
   "name": "python3"
  },
  "language_info": {
   "codemirror_mode": {
    "name": "ipython",
    "version": 3
   },
   "file_extension": ".py",
   "mimetype": "text/x-python",
   "name": "python",
   "nbconvert_exporter": "python",
   "pygments_lexer": "ipython3",
   "version": "3.12.7"
  }
 },
 "nbformat": 4,
 "nbformat_minor": 2
}
