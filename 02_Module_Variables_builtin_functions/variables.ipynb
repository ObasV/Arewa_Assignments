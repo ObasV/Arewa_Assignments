{
 "cells": [
  {
   "cell_type": "markdown",
   "metadata": {},
   "source": [
    "# Day 2: 30 Days of python programming"
   ]
  },
  {
   "cell_type": "markdown",
   "metadata": {},
   "source": [
    "### Exercise Level 1"
   ]
  },
  {
   "cell_type": "code",
   "execution_count": 1,
   "metadata": {},
   "outputs": [],
   "source": [
    "import datetime, math\n",
    "\n",
    "first_name = 'Abdulsalam'\n",
    "last_name = 'Idris'\n",
    "full_name = f'{first_name} {last_name}'\n",
    "country = 'Nigeria'\n",
    "city = 'Kano'\n",
    "age = 19\n",
    "year = datetime.date.today().year\n",
    "is_married = True\n",
    "is_true = True\n",
    "is_light_on = False\n",
    "height, weight, size = 190, 70, 42"
   ]
  },
  {
   "cell_type": "markdown",
   "metadata": {},
   "source": [
    "### Exercise Level 2"
   ]
  },
  {
   "cell_type": "code",
   "execution_count": 2,
   "metadata": {},
   "outputs": [
    {
     "name": "stdout",
     "output_type": "stream",
     "text": [
      "Data type of Abdulsalam is <class 'str'> \n",
      "Data type of Idris is <class 'str'> \n",
      "Data type of Abdulsalam Idris is <class 'str'> \n",
      "Data type of Nigeria is <class 'str'> \n",
      "Data type of Kano is <class 'str'> \n",
      "Data type of 19 is <class 'int'> \n",
      "Data type of 2024 is <class 'int'> \n",
      "Data type of True is <class 'bool'> \n",
      "Data type of False is <class 'bool'> \n",
      "Data type of 190 is <class 'int'> \n",
      "Data type of 70 is <class 'int'> \n",
      "Data type of 42 is <class 'int'> \n"
     ]
    }
   ],
   "source": [
    "# Check the data type of all your variables using type() built-in function\n",
    "\n",
    "\n",
    "variables = [first_name, last_name, full_name, country, city, age, year, \n",
    "             is_married, is_light_on, height, weight, size]\n",
    "\n",
    "for var in variables:\n",
    "    print(f'Data type of {var} is {type(var)} ')"
   ]
  },
  {
   "cell_type": "code",
   "execution_count": 3,
   "metadata": {},
   "outputs": [
    {
     "name": "stdout",
     "output_type": "stream",
     "text": [
      "The lenght of Abdulsalam is 10\n"
     ]
    }
   ],
   "source": [
    "# Using the len() built-in function, find the length of your first name\n",
    "\n",
    "print(f'The lenght of {first_name} is {len(first_name)}')"
   ]
  },
  {
   "cell_type": "code",
   "execution_count": 5,
   "metadata": {},
   "outputs": [
    {
     "name": "stdout",
     "output_type": "stream",
     "text": [
      "Lenght of first name \"Abdulsalam\" compared to last name \"Idris\" is: 5 letters\n"
     ]
    }
   ],
   "source": [
    "# Compare the length of your first name and your last name\n",
    "\n",
    "print(f'Lenght of first name \"{first_name}\" compared to last name \"{last_name}\" is: {len(first_name) - len(last_name)} letters')"
   ]
  },
  {
   "cell_type": "code",
   "execution_count": 6,
   "metadata": {},
   "outputs": [],
   "source": [
    "# Declare 5 as num_one and 4 as num_two\n",
    "\n",
    "num_one, num_two = 5, 4"
   ]
  },
  {
   "cell_type": "code",
   "execution_count": 8,
   "metadata": {},
   "outputs": [
    {
     "name": "stdout",
     "output_type": "stream",
     "text": [
      "num_one \"5\" plus num_two \"4\" = 9\n"
     ]
    }
   ],
   "source": [
    "#Add num_one and num_two and assign the value to a variable total\n",
    "\n",
    "total = num_one + num_two\n",
    "print(f'num_one \"{num_one}\" plus num_two \"{num_two}\" = {total}')"
   ]
  },
  {
   "cell_type": "code",
   "execution_count": 10,
   "metadata": {},
   "outputs": [
    {
     "name": "stdout",
     "output_type": "stream",
     "text": [
      "num_one \"5\" minus num_two \"4\" = 1\n"
     ]
    }
   ],
   "source": [
    "# Subtract num_two from num_one and assign the value to a variable diff\n",
    "\n",
    "diff = num_one - num_two\n",
    "print(f'num_one \"{num_one}\" minus num_two \"{num_two}\" = {diff}')"
   ]
  },
  {
   "cell_type": "code",
   "execution_count": 11,
   "metadata": {},
   "outputs": [
    {
     "name": "stdout",
     "output_type": "stream",
     "text": [
      "num_two \"4\" multiplied by num_one \"5\" = 20\n"
     ]
    }
   ],
   "source": [
    "# Multiply num_two and num_one and assign the value to a variable product\n",
    "\n",
    "product = num_two * num_one\n",
    "print(f'num_two \"{num_two}\" multiplied by num_one \"{num_one}\" = {product}')"
   ]
  },
  {
   "cell_type": "code",
   "execution_count": 12,
   "metadata": {},
   "outputs": [
    {
     "name": "stdout",
     "output_type": "stream",
     "text": [
      "num_one \"5\" divided by num_two \"4\" = 1.25\n"
     ]
    }
   ],
   "source": [
    "# Divide num_one by num_two and assign the value to a variable division\n",
    "\n",
    "division = num_one/num_two\n",
    "print(f'num_one \"{num_one}\" divided by num_two \"{num_two}\" = {division}')"
   ]
  },
  {
   "cell_type": "code",
   "execution_count": 13,
   "metadata": {},
   "outputs": [
    {
     "name": "stdout",
     "output_type": "stream",
     "text": [
      "Remainder for num_two \"4\" divided by num_one \"5\" = 4\n"
     ]
    }
   ],
   "source": [
    "# Use modulus division to find num_two divided by num_one and assign the value to a variable remainder\n",
    "\n",
    "remainder = num_two % num_one\n",
    "print(f'Remainder for num_two \"{num_two}\" divided by num_one \"{num_one}\" = {remainder}')"
   ]
  },
  {
   "cell_type": "code",
   "execution_count": 14,
   "metadata": {},
   "outputs": [
    {
     "name": "stdout",
     "output_type": "stream",
     "text": [
      "num_one \"5\" to the power of num_two \"4\" = 625\n"
     ]
    }
   ],
   "source": [
    "# Calculate num_one to the power of num_two and assign the value to a variable exp\n",
    "\n",
    "exp = num_one**num_two\n",
    "print(f'num_one \"{num_one}\" to the power of num_two \"{num_two}\" = {exp}')"
   ]
  },
  {
   "cell_type": "code",
   "execution_count": 15,
   "metadata": {},
   "outputs": [
    {
     "name": "stdout",
     "output_type": "stream",
     "text": [
      "Floor division of num_one \"5\" by num_two \"4\" = 1\n"
     ]
    }
   ],
   "source": [
    "# Find floor division of num_one by num_two and assign the value to a variable floor_division\n",
    "\n",
    "floor_division = num_one // num_two\n",
    "print(f'Floor division of num_one \"{num_one}\" by num_two \"{num_two}\" = {floor_division}')"
   ]
  },
  {
   "cell_type": "code",
   "execution_count": 16,
   "metadata": {},
   "outputs": [
    {
     "name": "stdout",
     "output_type": "stream",
     "text": [
      "Area of a circle with radius 30 meters is 94.25 meter squared\n",
      "Circumference of a circle with radius 30 meters is 5654.87 meters\n"
     ]
    }
   ],
   "source": [
    "''' The radius of a circle is 30 meters.\n",
    "Calculate the area of a circle and assign the value to a variable name of area_of_circle\n",
    "Calculate the circumference of a circle and assign the value to a variable name of circum_of_circle\n",
    "Take radius as user input and calculate the area.\n",
    "'''\n",
    "area_of_circle = math.pi * 30\n",
    "circum_of_circle = 2 * math.pi * 30**2\n",
    "print(f'Area of a circle with radius 30 meters is {area_of_circle:.2f} meter squared')\n",
    "print(f'Circumference of a circle with radius 30 meters is {circum_of_circle:.2f} meters')"
   ]
  },
  {
   "cell_type": "code",
   "execution_count": 18,
   "metadata": {},
   "outputs": [
    {
     "name": "stdout",
     "output_type": "stream",
     "text": [
      "Nana Ado is from Niger, and is 3 years old\n"
     ]
    }
   ],
   "source": [
    "first_name_inp = input('Provide your first name:  ')\n",
    "last_name_inp = input('Provide your last name:  ')\n",
    "country_inp = input('Provide your preferred country')\n",
    "age_inp = input('What is your age:  ')\n",
    "print(f'{first_name_inp} {last_name_inp} is from {country_inp}, and is {age_inp} years old')"
   ]
  },
  {
   "cell_type": "code",
   "execution_count": 19,
   "metadata": {},
   "outputs": [
    {
     "name": "stdout",
     "output_type": "stream",
     "text": [
      "\n",
      "Here is a list of the Python keywords.  Enter any keyword to get more help.\n",
      "\n",
      "False               class               from                or\n",
      "None                continue            global              pass\n",
      "True                def                 if                  raise\n",
      "and                 del                 import              return\n",
      "as                  elif                in                  try\n",
      "assert              else                is                  while\n",
      "async               except              lambda              with\n",
      "await               finally             nonlocal            yield\n",
      "break               for                 not                 \n",
      "\n"
     ]
    }
   ],
   "source": [
    "# Run help('keywords') in Python shell or in your file to check for the Python reserved words or keywords\n",
    "\n",
    "help('keywords')"
   ]
  }
 ],
 "metadata": {
  "kernelspec": {
   "display_name": "condaVirtual",
   "language": "python",
   "name": "python3"
  },
  "language_info": {
   "codemirror_mode": {
    "name": "ipython",
    "version": 3
   },
   "file_extension": ".py",
   "mimetype": "text/x-python",
   "name": "python",
   "nbconvert_exporter": "python",
   "pygments_lexer": "ipython3",
   "version": "3.12.7"
  }
 },
 "nbformat": 4,
 "nbformat_minor": 2
}
