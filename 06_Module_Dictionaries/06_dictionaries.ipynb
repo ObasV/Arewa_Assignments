{
 "cells": [
  {
   "cell_type": "markdown",
   "metadata": {},
   "source": [
    "# Module 6 - Dictionaries"
   ]
  },
  {
   "cell_type": "code",
   "execution_count": 4,
   "metadata": {},
   "outputs": [],
   "source": [
    "# Create an empty dictionary called dog\n",
    "\n",
    "dog = {}"
   ]
  },
  {
   "cell_type": "code",
   "execution_count": 9,
   "metadata": {},
   "outputs": [
    {
     "name": "stdout",
     "output_type": "stream",
     "text": [
      "{'name': 'Bingo', 'color': 'gold', 'breed': 'German shephard', 'legs': 4, 'age': 2}\n"
     ]
    }
   ],
   "source": [
    "# Add name, color, breed, legs, age to the dog dictionary\n",
    "\n",
    "dog['name'] = 'Bingo'\n",
    "dog['color'] = 'gold'\n",
    "dog['breed'] = 'German shephard'\n",
    "dog['legs'] = 4\n",
    "dog['age'] = 2\n",
    "\n",
    "print(dog)"
   ]
  },
  {
   "cell_type": "code",
   "execution_count": 12,
   "metadata": {},
   "outputs": [
    {
     "name": "stdout",
     "output_type": "stream",
     "text": [
      "{'first_name': 'John', 'last_name': 'Pedro', 'gender': 'Male', 'age': 35, 'marital_status': True, 'skills': ['JavaScript', 'React', 'Node', 'MongoDB', 'Python'], 'country': 'Finland', 'city': 'Helsinki', 'address': {'street': 'Space street', 'zipcode': '02210'}}\n"
     ]
    }
   ],
   "source": [
    "# Create a student dictionary\n",
    "\n",
    "student = {\n",
    "    'first_name': 'John', \n",
    "    'last_name' : 'Pedro', \n",
    "    'gender' : 'Male', \n",
    "    'age' : 35, \n",
    "    'marital_status' : True, \n",
    "    'skills' : ['JavaScript', 'React', 'Node', 'MongoDB', 'Python'], \n",
    "    'country' : 'Finland', \n",
    "    'city' : 'Helsinki',\n",
    "    'address' : {\n",
    "        'street':'Space street',\n",
    "        'zipcode':'02210'\n",
    "    }\n",
    "}\n",
    "print(student)"
   ]
  },
  {
   "cell_type": "code",
   "execution_count": 13,
   "metadata": {},
   "outputs": [
    {
     "name": "stdout",
     "output_type": "stream",
     "text": [
      "Q4\t Lenght of student dictionary is: 9\n"
     ]
    }
   ],
   "source": [
    "# Get the length of the student dictionary\n",
    "\n",
    "print('Q4\\t', f'Lenght of student dictionary is: {len(student)}')"
   ]
  },
  {
   "cell_type": "code",
   "execution_count": 16,
   "metadata": {},
   "outputs": [
    {
     "name": "stdout",
     "output_type": "stream",
     "text": [
      "Q5.\n",
      "Values of skill: ['JavaScript', 'React', 'Node', 'MongoDB', 'Python']\n",
      "Data type of skills: <class 'list'>\n"
     ]
    }
   ],
   "source": [
    "# Get the value of skills and check the data type, it should be a list\n",
    "\n",
    "print('Q5.')\n",
    "print('Values of skill:', student['skills'])\n",
    "print('Data type of skills:', type(student['skills']))"
   ]
  },
  {
   "cell_type": "code",
   "execution_count": 17,
   "metadata": {},
   "outputs": [
    {
     "name": "stdout",
     "output_type": "stream",
     "text": [
      "Q6.\t List of skills is: ['JavaScript', 'React', 'Node', 'MongoDB', 'Python', 'Laravel']\n"
     ]
    }
   ],
   "source": [
    "# Modify the skills values by adding one or two skills\n",
    "\n",
    "student['skills'].append('Laravel')\n",
    "\n",
    "print('Q6.\\t', 'List of skills is:', student['skills'])"
   ]
  },
  {
   "cell_type": "code",
   "execution_count": null,
   "metadata": {},
   "outputs": [
    {
     "name": "stdout",
     "output_type": "stream",
     "text": [
      "Q7.\t Dictionary keys are: dict_keys(['first_name', 'last_name', 'gender', 'age', 'marital_status', 'skills', 'country', 'city', 'address'])\n"
     ]
    }
   ],
   "source": [
    "# Get the dictionary keys as a list\n",
    "\n",
    "print('Q7.\\t', 'Dictionary keys are:', student.keys())"
   ]
  },
  {
   "cell_type": "code",
   "execution_count": 19,
   "metadata": {},
   "outputs": [
    {
     "name": "stdout",
     "output_type": "stream",
     "text": [
      "Q8.\t Values in student: dict_values(['John', 'Pedro', 'Male', 35, True, ['JavaScript', 'React', 'Node', 'MongoDB', 'Python', 'Laravel'], 'Finland', 'Helsinki', {'street': 'Space street', 'zipcode': '02210'}])\n"
     ]
    }
   ],
   "source": [
    "# Get the dictionary values as a list\n",
    "\n",
    "print('Q8.\\t', 'Values in student:', student.values())"
   ]
  },
  {
   "cell_type": "code",
   "execution_count": 20,
   "metadata": {},
   "outputs": [
    {
     "name": "stdout",
     "output_type": "stream",
     "text": [
      "Q9.\t To change dictionary to list of tuples: dict_items([('first_name', 'John'), ('last_name', 'Pedro'), ('gender', 'Male'), ('age', 35), ('marital_status', True), ('skills', ['JavaScript', 'React', 'Node', 'MongoDB', 'Python', 'Laravel']), ('country', 'Finland'), ('city', 'Helsinki'), ('address', {'street': 'Space street', 'zipcode': '02210'})])\n"
     ]
    }
   ],
   "source": [
    "# Change the dictionary to a list of tuples using items() method\n",
    "\n",
    "print('Q9.\\t', 'To change dictionary to list of tuples:', student.items())"
   ]
  },
  {
   "cell_type": "code",
   "execution_count": 21,
   "metadata": {},
   "outputs": [
    {
     "name": "stdout",
     "output_type": "stream",
     "text": [
      "{'first_name': 'John', 'last_name': 'Pedro', 'gender': 'Male', 'marital_status': True, 'skills': ['JavaScript', 'React', 'Node', 'MongoDB', 'Python', 'Laravel'], 'country': 'Finland', 'city': 'Helsinki', 'address': {'street': 'Space street', 'zipcode': '02210'}}\n"
     ]
    }
   ],
   "source": [
    "# Delete one of the items in the dictionary\n",
    "\n",
    "del student['age']\n",
    "print(student)"
   ]
  },
  {
   "cell_type": "code",
   "execution_count": null,
   "metadata": {},
   "outputs": [],
   "source": [
    "# Delete one of the dictionaries\n",
    "\n",
    "del dog"
   ]
  }
 ],
 "metadata": {
  "kernelspec": {
   "display_name": "condaVirtual",
   "language": "python",
   "name": "python3"
  },
  "language_info": {
   "codemirror_mode": {
    "name": "ipython",
    "version": 3
   },
   "file_extension": ".py",
   "mimetype": "text/x-python",
   "name": "python",
   "nbconvert_exporter": "python",
   "pygments_lexer": "ipython3",
   "version": "3.12.7"
  }
 },
 "nbformat": 4,
 "nbformat_minor": 2
}
