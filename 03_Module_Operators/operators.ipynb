{
 "cells": [
  {
   "cell_type": "markdown",
   "metadata": {},
   "source": [
    "# Welcome to Day 3 challenge\n",
    "## Operators"
   ]
  },
  {
   "cell_type": "code",
   "execution_count": 1,
   "metadata": {},
   "outputs": [],
   "source": [
    "age = 25\n",
    "height = 193.45\n",
    "comp = 3 + 4j"
   ]
  },
  {
   "cell_type": "code",
   "execution_count": 27,
   "metadata": {},
   "outputs": [
    {
     "name": "stdout",
     "output_type": "stream",
     "text": [
      "Enter base: 34\n",
      "Enter height: 23\n",
      "The area of the triangle is 391.0 meter squared\n"
     ]
    }
   ],
   "source": [
    "def area_of_triangle():\n",
    "    base = int(input('Enter base: '))\n",
    "    height = int(input('Enter height: '))\n",
    "    \n",
    "    print(f'Enter base: {base}')\n",
    "    print(f'Enter height: {height}')\n",
    "    print(f'The area of the triangle is {0.5 * base * height} meter squared')\n",
    "\n",
    "area_of_triangle()"
   ]
  },
  {
   "cell_type": "code",
   "execution_count": 28,
   "metadata": {},
   "outputs": [
    {
     "name": "stdout",
     "output_type": "stream",
     "text": [
      "Enter side a: 3\n",
      "Enter side b: 5\n",
      "Enter side c: 6\n",
      "The perimeter of the triangle is 14 meters\n"
     ]
    }
   ],
   "source": [
    "# Calculate the perimeter of a triangle\n",
    "\n",
    "a = int(input('Enter side a: '))\n",
    "b = int(input('Enter side b: '))\n",
    "c = int(input('Enter side c: '))\n",
    "\n",
    "\n",
    "print(f'Enter side a: {a}')\n",
    "print(f'Enter side b: {b}')\n",
    "print(f'Enter side c: {c}')\n",
    "print(f'The perimeter of the triangle is {a + b + c} meters')"
   ]
  },
  {
   "cell_type": "code",
   "execution_count": null,
   "metadata": {},
   "outputs": [
    {
     "name": "stdout",
     "output_type": "stream",
     "text": [
      "Enter length of: 34\n",
      "Enter width of: 9\n",
      "Perimeter of the rectangle is 86 meters and area is 306 meter squared\n"
     ]
    }
   ],
   "source": [
    "# Calculate the area and perimeter of a rectangle\n",
    "\n",
    "length = int(input('Enter length of: '))\n",
    "width = int(input('Enter width of: '))\n",
    "\n",
    "print(f'Enter length of rectangle: {length}')\n",
    "print(f'Enter width of rectangle: {width}')\n",
    "print(f'Perimeter of the rectangle is {2 * (length + width)} meters and area is {length * width} meter squared')\n"
   ]
  },
  {
   "cell_type": "code",
   "execution_count": 29,
   "metadata": {},
   "outputs": [
    {
     "name": "stdout",
     "output_type": "stream",
     "text": [
      "Enter the radius: 70\n",
      "Area of circle is 15393.80 meter squared and circumference is 439.822972 meters\n"
     ]
    }
   ],
   "source": [
    "# Calculate the area and circumference of the circle\n",
    "import math\n",
    "\n",
    "radius = int(input('Enter the radius: '))\n",
    "\n",
    "print(f'Enter the radius: {radius}')\n",
    "print(f'Area of circle is {math.pi * radius**2:.2f} meter squared and circumference is {2 * math.pi * radius:2f} meters')\n"
   ]
  },
  {
   "cell_type": "code",
   "execution_count": 8,
   "metadata": {},
   "outputs": [
    {
     "name": "stdout",
     "output_type": "stream",
     "text": [
      "slope: 2.0 \n",
      " x_intercept: 1.0 \n",
      " y_intercept: 2\n"
     ]
    }
   ],
   "source": [
    "# Calculate the slope of the line equation\n",
    "x_intercept = (2 + 0)/2\n",
    "y_intercept = 2 * 0 + 2\n",
    "slope = y_intercept/x_intercept\n",
    "\n",
    "print(f'slope: {slope} \\n x_intercept: {x_intercept} \\n y_intercept: {y_intercept}')"
   ]
  },
  {
   "cell_type": "code",
   "execution_count": 1,
   "metadata": {},
   "outputs": [
    {
     "name": "stdout",
     "output_type": "stream",
     "text": [
      "0.5\n"
     ]
    }
   ],
   "source": [
    "# Calculate the slope of between two points\n",
    "y1, x1 = 2, 2\n",
    "y2, x2 = 6, 10\n",
    "m = (y2 - y1)/(x2 - x1)\n",
    "print(m)"
   ]
  },
  {
   "cell_type": "code",
   "execution_count": 5,
   "metadata": {},
   "outputs": [
    {
     "name": "stdout",
     "output_type": "stream",
     "text": [
      "8.94\n"
     ]
    }
   ],
   "source": [
    "# Euclidean distance\n",
    "import math\n",
    "\n",
    "distance = math.sqrt((y2 - y1)**2 + (x2 - x1)**2)\n",
    "print(round(distance, 2))"
   ]
  },
  {
   "cell_type": "code",
   "execution_count": 20,
   "metadata": {},
   "outputs": [
    {
     "name": "stdout",
     "output_type": "stream",
     "text": [
      "False\n"
     ]
    }
   ],
   "source": [
    "# Compare the slopes \n",
    "\n",
    "x_intercept = (2 + 0)/2\n",
    "y_intercept = 2 * 0 + 2\n",
    "slope = y_intercept/x_intercept\n",
    "\n",
    "\n",
    "y1, x1 = 2, 2\n",
    "y2, x2 = 6, 10\n",
    "m = (y2 - y1)/(x2 - x1)\n",
    "\n",
    "\n",
    "\n",
    "print(m == slope)"
   ]
  },
  {
   "cell_type": "code",
   "execution_count": 9,
   "metadata": {},
   "outputs": [
    {
     "name": "stdout",
     "output_type": "stream",
     "text": [
      "3\n"
     ]
    }
   ],
   "source": [
    "# What values of x is y = 0\n",
    "\n",
    "for x in range(-10, 10):\n",
    "    if x**2 - 6*x + 9 == 0:\n",
    "        print(x)\n",
    "\n"
   ]
  },
  {
   "cell_type": "code",
   "execution_count": 11,
   "metadata": {},
   "outputs": [
    {
     "name": "stdout",
     "output_type": "stream",
     "text": [
      "False\n"
     ]
    }
   ],
   "source": [
    "# Falsy comparision of 'python' and 'dragon'\n",
    "\n",
    "print(len('python') != len('dragon'))"
   ]
  },
  {
   "cell_type": "code",
   "execution_count": 16,
   "metadata": {},
   "outputs": [
    {
     "name": "stdout",
     "output_type": "stream",
     "text": [
      "True\n"
     ]
    }
   ],
   "source": [
    "# Is 'on' found in python and dragon?\n",
    "\n",
    "print('on' in 'python'and 'on' in 'dragon')"
   ]
  },
  {
   "cell_type": "code",
   "execution_count": 17,
   "metadata": {},
   "outputs": [
    {
     "name": "stdout",
     "output_type": "stream",
     "text": [
      "True\n"
     ]
    }
   ],
   "source": [
    "# 'jargon' is in 'I hope this course is not full of jargon'\n",
    "\n",
    "print('jargon' in 'I hope this course is not full of jargon')"
   ]
  },
  {
   "cell_type": "code",
   "execution_count": 18,
   "metadata": {},
   "outputs": [
    {
     "name": "stdout",
     "output_type": "stream",
     "text": [
      "False\n"
     ]
    }
   ],
   "source": [
    "# There is no 'on' in both 'dragon' and 'python'\n",
    "\n",
    "print('on' not in 'jagon' and 'on' not in 'dragon')"
   ]
  },
  {
   "cell_type": "code",
   "execution_count": 5,
   "metadata": {},
   "outputs": [
    {
     "name": "stdout",
     "output_type": "stream",
     "text": [
      "length of python 6\n",
      "6.0 <class 'float'>\n",
      "6 <class 'str'>\n"
     ]
    }
   ],
   "source": [
    "# Find the lenght of python\n",
    "\n",
    "count = len('python')\n",
    "print(f'length of python {count}')\n",
    "print(float(count), type(float(count)))\n",
    "print(str(count), type(str(count)))"
   ]
  },
  {
   "cell_type": "code",
   "execution_count": null,
   "metadata": {},
   "outputs": [
    {
     "name": "stdout",
     "output_type": "stream",
     "text": [
      "15678976 is an even number\n"
     ]
    }
   ],
   "source": [
    "def is_even(num):\n",
    "    if num % 2 == 0:\n",
    "        print('{} is an even number'.format(num))\n",
    "    else:\n",
    "        print('{} is an odd number'.format(num))\n",
    "\n",
    "is_even(15678976)"
   ]
  },
  {
   "cell_type": "code",
   "execution_count": 27,
   "metadata": {},
   "outputs": [
    {
     "name": "stdout",
     "output_type": "stream",
     "text": [
      "True\n"
     ]
    }
   ],
   "source": [
    "# Check if the floor division of 7 by 3 is equal to the int converted value of 2.7.\n",
    "\n",
    "print(7//3 == int(2.7))"
   ]
  },
  {
   "cell_type": "code",
   "execution_count": 28,
   "metadata": {},
   "outputs": [
    {
     "name": "stdout",
     "output_type": "stream",
     "text": [
      "False\n"
     ]
    }
   ],
   "source": [
    "# Check if type of '10' is equal to type of 10\n",
    "\n",
    "print(type('10') == type(10))"
   ]
  },
  {
   "cell_type": "code",
   "execution_count": 29,
   "metadata": {},
   "outputs": [
    {
     "name": "stdout",
     "output_type": "stream",
     "text": [
      "False\n"
     ]
    }
   ],
   "source": [
    "# Check if int('9.8') is equal to 10\n",
    "\n",
    "print(int(9.8) == 10)"
   ]
  },
  {
   "cell_type": "code",
   "execution_count": 22,
   "metadata": {},
   "outputs": [
    {
     "name": "stdout",
     "output_type": "stream",
     "text": [
      "Enter hours: 2\n",
      "Enter rate per hour: 3\n",
      "Your weekly earning is $6\n"
     ]
    }
   ],
   "source": [
    "# Writ a script that prompts the user to enter hours and rate per hour. Calculate pay of the person?\n",
    "\n",
    "hour = int(input('Enter hours: '))\n",
    "rate = int(input('Enter rate per hour: '))\n",
    "\n",
    "print(f'Enter hours: {hour}')\n",
    "print(f'Enter rate per hour: {rate}')\n",
    "print(f'Your weekly earning is ${hour * rate}')"
   ]
  },
  {
   "cell_type": "code",
   "execution_count": 23,
   "metadata": {},
   "outputs": [
    {
     "name": "stdout",
     "output_type": "stream",
     "text": [
      "Enter number of years you have lived: 50\n",
      "You have lived for 1576800000 seconds.\n"
     ]
    }
   ],
   "source": [
    "# Write a script that prompts the user to enter number of years. Calculate the number of seconds a person can live. Assume a person can live hundred years\n",
    "\n",
    "years = int(input('Enter number of years you have lived: '))\n",
    "\n",
    "print(f'Enter number of years you have lived: {years}')\n",
    "print(f'You have lived for {years * 31536000} seconds.')"
   ]
  },
  {
   "cell_type": "code",
   "execution_count": 3,
   "metadata": {},
   "outputs": [
    {
     "name": "stdout",
     "output_type": "stream",
     "text": [
      "1  1  1  1  1\n",
      "2  1  2  4  8\n",
      "3  1  3  9  27\n",
      "4  1  4  16  64\n",
      "5  1  5  25  125\n"
     ]
    }
   ],
   "source": [
    "# Write a Python script that displays the following table\n",
    "\n",
    "for x in range(1, 6):\n",
    "    print(f\"{x}  {x**0}  {x}  {x**2}  {x**3}\")\n"
   ]
  }
 ],
 "metadata": {
  "kernelspec": {
   "display_name": "condaVirtual",
   "language": "python",
   "name": "python3"
  },
  "language_info": {
   "codemirror_mode": {
    "name": "ipython",
    "version": 3
   },
   "file_extension": ".py",
   "mimetype": "text/x-python",
   "name": "python",
   "nbconvert_exporter": "python",
   "pygments_lexer": "ipython3",
   "version": "3.12.7"
  }
 },
 "nbformat": 4,
 "nbformat_minor": 2
}
