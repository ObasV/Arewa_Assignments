{
 "cells": [
  {
   "cell_type": "markdown",
   "metadata": {},
   "source": [
    "# Welcome to Day 3 challenge\n",
    "## Operators"
   ]
  },
  {
   "cell_type": "code",
   "execution_count": 1,
   "metadata": {},
   "outputs": [],
   "source": [
    "age = 25\n",
    "height = 193.45\n",
    "comp = 3 + 4j"
   ]
  },
  {
   "cell_type": "code",
   "execution_count": null,
   "metadata": {},
   "outputs": [],
   "source": [
    "def area_of_triangle():\n",
    "    base = int(input('Enter base: '))\n",
    "    height = int(input('Enter height: '))\n",
    "    print(f'The area of the triangle is {0.5 * base * height}')\n",
    "\n",
    "area_of_triangle()"
   ]
  },
  {
   "cell_type": "code",
   "execution_count": null,
   "metadata": {},
   "outputs": [],
   "source": [
    "# Calculate the perimeter of a triangle\n",
    "\n",
    "a = int(input('Enter side a: '))\n",
    "b = int(input('Enter side b: '))\n",
    "c = int(input('Enter side c: '))\n",
    "\n",
    "print(f'The perimeter of the triangle is {a + b + c}')"
   ]
  },
  {
   "cell_type": "code",
   "execution_count": null,
   "metadata": {},
   "outputs": [],
   "source": [
    "# Calculate the area and perimeter of a rectangle\n",
    "\n",
    "lenght = int(input('Enter lenght of: '))\n",
    "width = int(input('Enter width of: '))\n",
    "\n",
    "print(f'Perimeter of the rectangle is {2(lenght + width)} and area is {lenght * width}')"
   ]
  },
  {
   "cell_type": "code",
   "execution_count": null,
   "metadata": {},
   "outputs": [],
   "source": [
    "# Calculate the area and circumference of the circle\n",
    "import math\n",
    "\n",
    "radius = int(input('Enter the radius: '))\n",
    "print(f'Area of circle is {math.pi * radius**2} and circumference is {2 * math.pi * radius}')\n"
   ]
  },
  {
   "cell_type": "code",
   "execution_count": null,
   "metadata": {},
   "outputs": [],
   "source": [
    "# Calculate the slope of the line equation"
   ]
  },
  {
   "cell_type": "code",
   "execution_count": 1,
   "metadata": {},
   "outputs": [
    {
     "name": "stdout",
     "output_type": "stream",
     "text": [
      "0.5\n"
     ]
    }
   ],
   "source": [
    "# Calculate the slope of between two points\n",
    "y1, x1 = 2, 2\n",
    "y2, x2 = 6, 10\n",
    "m = (y2 - y1)/(x2 - x1)\n",
    "print(m)"
   ]
  },
  {
   "cell_type": "code",
   "execution_count": 5,
   "metadata": {},
   "outputs": [
    {
     "name": "stdout",
     "output_type": "stream",
     "text": [
      "8.94\n"
     ]
    }
   ],
   "source": [
    "# Euclidean distance\n",
    "import math\n",
    "\n",
    "distance = math.sqrt((y2 - y1)**2 + (x2 - x1)**2)\n",
    "print(round(distance, 2))"
   ]
  },
  {
   "cell_type": "code",
   "execution_count": null,
   "metadata": {},
   "outputs": [],
   "source": [
    "# Compare the slopes "
   ]
  },
  {
   "cell_type": "code",
   "execution_count": 9,
   "metadata": {},
   "outputs": [
    {
     "name": "stdout",
     "output_type": "stream",
     "text": [
      "3\n"
     ]
    }
   ],
   "source": [
    "# What values of x is y = 0\n",
    "\n",
    "for x in range(-10, 10):\n",
    "    if x**2 - 6*x + 9 == 0:\n",
    "        print(x)\n",
    "\n"
   ]
  },
  {
   "cell_type": "code",
   "execution_count": 11,
   "metadata": {},
   "outputs": [
    {
     "name": "stdout",
     "output_type": "stream",
     "text": [
      "False\n"
     ]
    }
   ],
   "source": [
    "# Falsy comparision of 'python' and 'dragon'\n",
    "\n",
    "print(len('python') != len('dragon'))"
   ]
  },
  {
   "cell_type": "code",
   "execution_count": 16,
   "metadata": {},
   "outputs": [
    {
     "name": "stdout",
     "output_type": "stream",
     "text": [
      "True\n"
     ]
    }
   ],
   "source": [
    "# Is 'on' found in python and dragon?\n",
    "\n",
    "print('on' in 'python'and 'on' in 'dragon')"
   ]
  },
  {
   "cell_type": "code",
   "execution_count": 17,
   "metadata": {},
   "outputs": [
    {
     "name": "stdout",
     "output_type": "stream",
     "text": [
      "True\n"
     ]
    }
   ],
   "source": [
    "# 'jargon' is in 'I hope this course is not full of jargon'\n",
    "\n",
    "print('jargon' in 'I hope this course is not full of jargon')"
   ]
  },
  {
   "cell_type": "code",
   "execution_count": 18,
   "metadata": {},
   "outputs": [
    {
     "name": "stdout",
     "output_type": "stream",
     "text": [
      "False\n"
     ]
    }
   ],
   "source": [
    "# There is no 'on' in both 'dragon' and 'python'\n",
    "\n",
    "print('on' not in 'jagon' and 'on' not in 'dragon')"
   ]
  },
  {
   "cell_type": "code",
   "execution_count": 5,
   "metadata": {},
   "outputs": [
    {
     "name": "stdout",
     "output_type": "stream",
     "text": [
      "length of python 6\n",
      "6.0 <class 'float'>\n",
      "6 <class 'str'>\n"
     ]
    }
   ],
   "source": [
    "# Find the lenght of python\n",
    "\n",
    "count = len('python')\n",
    "print(f'length of python {count}')\n",
    "print(float(count), type(float(count)))\n",
    "print(str(count), type(str(count)))"
   ]
  },
  {
   "cell_type": "code",
   "execution_count": 4,
   "metadata": {},
   "outputs": [
    {
     "name": "stdout",
     "output_type": "stream",
     "text": [
      "11 is an odd number\n"
     ]
    }
   ],
   "source": [
    "def is_even(num):\n",
    "    if num % 2 ==0:\n",
    "        print('{} is an even number'.format(num))\n",
    "    else:\n",
    "        print('{} is an odd number'.format(num))\n",
    "\n",
    "is_even(11)"
   ]
  },
  {
   "cell_type": "code",
   "execution_count": 27,
   "metadata": {},
   "outputs": [
    {
     "name": "stdout",
     "output_type": "stream",
     "text": [
      "True\n"
     ]
    }
   ],
   "source": [
    "# Check if the floor division of 7 by 3 is equal to the int converted value of 2.7.\n",
    "\n",
    "print(7//3 == int(2.7))"
   ]
  },
  {
   "cell_type": "code",
   "execution_count": 28,
   "metadata": {},
   "outputs": [
    {
     "name": "stdout",
     "output_type": "stream",
     "text": [
      "False\n"
     ]
    }
   ],
   "source": [
    "# Check if type of '10' is equal to type of 10\n",
    "\n",
    "print(type('10') == type(10))"
   ]
  },
  {
   "cell_type": "code",
   "execution_count": 29,
   "metadata": {},
   "outputs": [
    {
     "name": "stdout",
     "output_type": "stream",
     "text": [
      "False\n"
     ]
    }
   ],
   "source": [
    "# Check if int('9.8') is equal to 10\n",
    "\n",
    "print(int(9.8) == 10)"
   ]
  },
  {
   "cell_type": "code",
   "execution_count": null,
   "metadata": {},
   "outputs": [],
   "source": [
    "# Writ a script that prompts the user to enter hours and rate per hour. Calculate pay of the person?\n",
    "\n",
    "hour = int(input('Enter hours: '))\n",
    "rate = int(input('Enter rate per hour: '))\n",
    "\n",
    "print(f'Your weekly earning is {hour * rate}')"
   ]
  },
  {
   "cell_type": "code",
   "execution_count": null,
   "metadata": {},
   "outputs": [],
   "source": [
    "# Write a script that prompts the user to enter number of years. Calculate the number of seconds a person can live. Assume a person can live hundred years\n",
    "\n",
    "years = int(input('Enter number of years you have lived: '))\n",
    "\n",
    "print(f'You have lived for {years * 31536000} seconds.')"
   ]
  },
  {
   "cell_type": "code",
   "execution_count": 3,
   "metadata": {},
   "outputs": [
    {
     "name": "stdout",
     "output_type": "stream",
     "text": [
      "1  1  1  1  1\n",
      "2  1  2  4  8\n",
      "3  1  3  9  27\n",
      "4  1  4  16  64\n",
      "5  1  5  25  125\n"
     ]
    }
   ],
   "source": [
    "# Write a Python script that displays the following table\n",
    "\n",
    "for x in range(1, 6):\n",
    "    print(f\"{x}  {x**0}  {x}  {x**2}  {x**3}\")\n"
   ]
  }
 ],
 "metadata": {
  "kernelspec": {
   "display_name": "condaVirtual",
   "language": "python",
   "name": "python3"
  },
  "language_info": {
   "codemirror_mode": {
    "name": "ipython",
    "version": 3
   },
   "file_extension": ".py",
   "mimetype": "text/x-python",
   "name": "python",
   "nbconvert_exporter": "python",
   "pygments_lexer": "ipython3",
   "version": "3.12.7"
  }
 },
 "nbformat": 4,
 "nbformat_minor": 2
}
